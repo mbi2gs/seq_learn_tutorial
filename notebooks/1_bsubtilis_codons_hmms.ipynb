{
 "cells": [
  {
   "cell_type": "code",
   "execution_count": 1,
   "metadata": {},
   "outputs": [],
   "source": [
    "import urllib.request\n",
    "import gzip\n",
    "import shutil\n",
    "import os\n",
    "import pickle\n",
    "\n",
    "import matplotlib.pyplot as plt\n",
    "import numpy as np\n",
    "from numpy.random import choice\n",
    "import pandas as pd\n",
    "from hmmlearn.hmm import MultinomialHMM\n",
    "from scipy.stats import ttest_rel\n",
    "from Bio import SeqIO\n",
    "from Bio.Seq import Seq\n",
    "from Bio.SeqFeature import SeqFeature, FeatureLocation"
   ]
  },
  {
   "cell_type": "markdown",
   "metadata": {},
   "source": [
    "#### An HMM to model codon usage in Bacillus subtilis.\n",
    "\n",
    "In this notebook we go through the process of building a hidden markov model (HMM) to approximate the codon use distribution of *Bacillus subtilis*. In this example, we treat codons as the hidden states (because those are the things we want to predict) and amino acids as the observed features. One practical use of a model like this would be to optimize a heterologous (from another host) DNA sequence for expression in *B. subtilis*. \n",
    "\n",
    "First, we download the *B. subtilis genome*. "
   ]
  },
  {
   "cell_type": "code",
   "execution_count": 2,
   "metadata": {},
   "outputs": [],
   "source": [
    "url = 'https://ftp.ncbi.nlm.nih.gov/genomes/all/GCF/000/009/045/GCF_000009045.1_ASM904v1/GCF_000009045.1_ASM904v1_genomic.gbff.gz'\n",
    "gz_fn = 'GCF_000009045.1_ASM904v1_genomic.gbff.gz'\n",
    "gbk_fn = gz_fn.replace('.gbff.gz', '.gbk')\n",
    "if not os.path.isfile(gz_fn):\n",
    "    print('Beginning file download with urllib2...')\n",
    "    urllib.request.urlretrieve(url, gz_fn)\n",
    "\n",
    "if not os.path.isfile(gbk_fn):\n",
    "    with gzip.open(gz_fn, 'rb') as f_in, open(gbk_fn, 'wb') as f_out:\n",
    "            shutil.copyfileobj(f_in, f_out)"
   ]
  },
  {
   "cell_type": "markdown",
   "metadata": {},
   "source": [
    "Some helper functions to split a nucleotide sequence into codons and check for ambiguous codons or sequences with lengths that aren't a multiple of 3.\n",
    "\n",
    "`assert` statements are little tests to make sure that things are working the way we expect. They are *very* helpful for catching silly bugs."
   ]
  },
  {
   "cell_type": "code",
   "execution_count": 3,
   "metadata": {},
   "outputs": [],
   "source": [
    "def get_list_of_codons(dna_seq):\n",
    "    codons = []\n",
    "    for i in range(0, len(dna_seq), 3):\n",
    "        codons.append(dna_seq[i:i+3])\n",
    "    return codons\n",
    "assert get_list_of_codons('ATGCCCGGGAAATTTTAG') == ['ATG', 'CCC', 'GGG', 'AAA', 'TTT', 'TAG']\n",
    "\n",
    "def check_len_and_ambiguity(seq):\n",
    "    assert isinstance(seq, str)\n",
    "    ambig_nucs = ['R', 'Y', 'S', 'W', 'K', 'M', 'B', 'D', 'H', 'V', 'N']\n",
    "    unambiguous = not any([anuc in seq for anuc in ambig_nucs])\n",
    "    multiple_3 = len(seq) % 3 == 0\n",
    "    return unambiguous and multiple_3\n",
    "assert check_len_and_ambiguity('ATGACCTAG')\n",
    "assert not check_len_and_ambiguity('ATGACCTA')\n",
    "assert not check_len_and_ambiguity('ATGACCTAY')\n",
    "assert not check_len_and_ambiguity('ATGACCAY')"
   ]
  },
  {
   "cell_type": "markdown",
   "metadata": {},
   "source": [
    "And now we read in all the protein coding sequences from the genome. During this process, we keep track of the set of unique amino acids and nucleotides, the initial states, and---of great importance---the codons that correspond to each amino acid."
   ]
  },
  {
   "cell_type": "code",
   "execution_count": 4,
   "metadata": {},
   "outputs": [],
   "source": [
    "translations = {}\n",
    "for record in SeqIO.parse(gbk_fn, \"genbank\"):\n",
    "    for feature in record.features:\n",
    "        if feature.type == 'CDS' and \\\n",
    "           'translation' in feature.qualifiers and \\\n",
    "           check_len_and_ambiguity(str(record.seq)):\n",
    "            protein = feature.qualifiers['translation'][0] + '*'\n",
    "            aas = {aa for aa in protein}\n",
    "            nucleotide_seq = str(feature.extract(record.seq))\n",
    "            if len(protein)*3 == len(nucleotide_seq):\n",
    "                translations[protein] = nucleotide_seq"
   ]
  },
  {
   "cell_type": "markdown",
   "metadata": {},
   "source": [
    "Now, for purposes of evaluating our model later, we randomly split our set of coding sequences in training and test sets."
   ]
  },
  {
   "cell_type": "code",
   "execution_count": 5,
   "metadata": {},
   "outputs": [],
   "source": [
    "TEST_FRACTION = 0.2\n",
    "NUM_SEQS = len(translations)\n",
    "np.random.seed(2021)\n",
    "\n",
    "# Split protein/DNA pairs into random training and test set\n",
    "test_indices = choice(NUM_SEQS, \n",
    "                      size=int(np.floor(TEST_FRACTION*NUM_SEQS)), \n",
    "                      replace=False)\n",
    "train_indices = [x for x in range(NUM_SEQS) if x not in test_indices]\n",
    "trnslts_lst = list(translations.items())\n",
    "test_translations = dict([trnslts_lst[x] for x in test_indices])\n",
    "train_translations = dict([trnslts_lst[x] for x in train_indices])\n",
    "\n",
    "# Save the training and test data to\n",
    "# train and test the RNN in notebook 2\n",
    "with open('test_translations.pickle', 'wb') as handle:\n",
    "    pickle.dump(test_translations, handle)\n",
    "    \n",
    "with open('train_translations.pickle', 'wb') as handle:\n",
    "    pickle.dump(train_translations, handle)"
   ]
  },
  {
   "cell_type": "markdown",
   "metadata": {},
   "source": [
    "Here we can go about the business of counting features and states, with the end goal of building an HMM model."
   ]
  },
  {
   "cell_type": "code",
   "execution_count": 6,
   "metadata": {},
   "outputs": [],
   "source": [
    "u_aas = set()    # set of \"unique\" amino acids\n",
    "u_codons = set() # set of \"unique\" codons\n",
    "all_codons = []\n",
    "initial_states = []\n",
    "emissions = {}\n",
    "for protein in train_translations.keys():\n",
    "    nucleotide_seq = train_translations[protein]\n",
    "    aas = {aa for aa in protein}\n",
    "    codon = get_list_of_codons(nucleotide_seq)\n",
    "    if len(protein) == len(codon):\n",
    "        all_codons.append(codon)\n",
    "        initial_states.append(codon[0])\n",
    "        u_aas = u_aas.union(aas)\n",
    "        u_codons = u_codons.union(set(codon))\n",
    "        for i, cdn in enumerate(codon):\n",
    "            emissions[cdn] = protein[i]\n",
    "lu_aas = list(u_aas)\n",
    "lu_codons = list(u_codons)"
   ]
  },
  {
   "cell_type": "markdown",
   "metadata": {},
   "source": [
    "Let's look at some of the objects we created."
   ]
  },
  {
   "cell_type": "code",
   "execution_count": 7,
   "metadata": {},
   "outputs": [
    {
     "data": {
      "text/plain": [
       "['ATA', 'TAA', 'CCA']"
      ]
     },
     "execution_count": 7,
     "metadata": {},
     "output_type": "execute_result"
    }
   ],
   "source": [
    "lu_codons[:3]"
   ]
  },
  {
   "cell_type": "code",
   "execution_count": 8,
   "metadata": {},
   "outputs": [
    {
     "data": {
      "text/plain": [
       "('K', 'M')"
      ]
     },
     "execution_count": 8,
     "metadata": {},
     "output_type": "execute_result"
    }
   ],
   "source": [
    "emissions['AAA'], emissions['ATG']"
   ]
  },
  {
   "cell_type": "markdown",
   "metadata": {},
   "source": [
    "Helper functions to encode and decode sequences."
   ]
  },
  {
   "cell_type": "code",
   "execution_count": 9,
   "metadata": {},
   "outputs": [],
   "source": [
    "def encode_seq(seq_obj, seqtype='dna'):\n",
    "    encdr = lu_codons\n",
    "    symbols = get_list_of_codons(seq_obj)\n",
    "    if seqtype != 'dna':\n",
    "        encdr = lu_aas\n",
    "        symbols = [c for c in seq_obj]\n",
    "    outseq = np.array([encdr.index(s) for s in symbols])\n",
    "    return outseq\n",
    "\n",
    "test_aa = 'MENILD'\n",
    "test_nuc = 'AAAAAAATAAGATAG'\n",
    "assert encode_seq(test_aa, seqtype='prot')[0] == lu_aas.index(test_aa[0]) and \\\n",
    "       encode_seq(test_aa, seqtype='prot')[-1] == lu_aas.index(test_aa[-1])\n",
    "assert encode_seq(test_nuc, seqtype='dna')[0] == lu_codons.index(test_nuc[0:3]) and \\\n",
    "       encode_seq(test_nuc, seqtype='dna')[-1] == lu_codons.index(test_nuc[-3:])\n",
    "\n",
    "def decode_seq(num_array, seqtype='dna'):\n",
    "    encdr = lu_codons\n",
    "    if seqtype != 'dna':\n",
    "        encdr = lu_aas\n",
    "    outseq = [encdr[s] for s in num_array]\n",
    "    return ''.join(outseq)\n",
    "\n",
    "assert decode_seq(encode_seq(test_nuc)) == test_nuc\n",
    "assert decode_seq(encode_seq(test_aa, seqtype='prot'), seqtype='prot') == test_aa"
   ]
  },
  {
   "cell_type": "markdown",
   "metadata": {},
   "source": [
    "Now we construct the three matrices that together form our HMM. \n",
    "\n",
    "The `emission_prob` matrix maps the likelihood of a particular codon emitting a particular amino acid. This is pretty simple, since a given codon will map to its amino acid 100% of the time."
   ]
  },
  {
   "cell_type": "code",
   "execution_count": 10,
   "metadata": {},
   "outputs": [],
   "source": [
    "emission_prob = np.zeros((len(lu_codons), len(lu_aas)))\n",
    "for i, codon in enumerate(lu_codons):\n",
    "    aa = emissions[codon]\n",
    "    j = lu_aas.index(aa)\n",
    "    emission_prob[i, j] = 1"
   ]
  },
  {
   "cell_type": "markdown",
   "metadata": {},
   "source": [
    "The `initial_probabilities` matrix counts the number of times each codon is found at the start of a sequence, then divides those by the total so that they sum to 1. We can verify that \"ATG\" is a high fraction of the start probability."
   ]
  },
  {
   "cell_type": "code",
   "execution_count": 11,
   "metadata": {},
   "outputs": [],
   "source": [
    "initial_probabilities = {k:0 for k in lu_codons}\n",
    "for i in initial_states:\n",
    "    initial_probabilities[i] += 1\n",
    "for k in initial_probabilities.keys():\n",
    "    initial_probabilities[k] = initial_probabilities[k] / len(initial_states)\n",
    "initial_probs_np = np.array([initial_probabilities[x] for x in lu_codons])"
   ]
  },
  {
   "cell_type": "code",
   "execution_count": 12,
   "metadata": {},
   "outputs": [
    {
     "data": {
      "text/plain": [
       "0.7701386839775745"
      ]
     },
     "execution_count": 12,
     "metadata": {},
     "output_type": "execute_result"
    }
   ],
   "source": [
    "atg_idx = lu_codons.index('ATG')\n",
    "initial_probs_np[atg_idx]"
   ]
  },
  {
   "cell_type": "markdown",
   "metadata": {},
   "source": [
    "Finally, we compute the transition likelihoods. This is where the HMM differs substantially from a simpler approach of using only the most common codons. Here the HMM takes into account the codons that are expected immediately before or after."
   ]
  },
  {
   "cell_type": "code",
   "execution_count": 13,
   "metadata": {},
   "outputs": [
    {
     "data": {
      "text/html": [
       "<div>\n",
       "<style scoped>\n",
       "    .dataframe tbody tr th:only-of-type {\n",
       "        vertical-align: middle;\n",
       "    }\n",
       "\n",
       "    .dataframe tbody tr th {\n",
       "        vertical-align: top;\n",
       "    }\n",
       "\n",
       "    .dataframe thead th {\n",
       "        text-align: right;\n",
       "    }\n",
       "</style>\n",
       "<table border=\"1\" class=\"dataframe\">\n",
       "  <thead>\n",
       "    <tr style=\"text-align: right;\">\n",
       "      <th></th>\n",
       "      <th>ATA</th>\n",
       "      <th>TAA</th>\n",
       "      <th>CCA</th>\n",
       "      <th>AAG</th>\n",
       "      <th>TTA</th>\n",
       "      <th>ACT</th>\n",
       "      <th>CCT</th>\n",
       "      <th>TAT</th>\n",
       "      <th>AGC</th>\n",
       "      <th>CAC</th>\n",
       "      <th>...</th>\n",
       "      <th>CGT</th>\n",
       "      <th>TCT</th>\n",
       "      <th>CGG</th>\n",
       "      <th>TCA</th>\n",
       "      <th>GGT</th>\n",
       "      <th>GAA</th>\n",
       "      <th>CTC</th>\n",
       "      <th>ACA</th>\n",
       "      <th>GTG</th>\n",
       "      <th>GCT</th>\n",
       "    </tr>\n",
       "  </thead>\n",
       "  <tbody>\n",
       "    <tr>\n",
       "      <th>ATA</th>\n",
       "      <td>0.008113</td>\n",
       "      <td>0.004109</td>\n",
       "      <td>0.008745</td>\n",
       "      <td>0.028343</td>\n",
       "      <td>0.030766</td>\n",
       "      <td>0.010958</td>\n",
       "      <td>0.012011</td>\n",
       "      <td>0.020651</td>\n",
       "      <td>0.011906</td>\n",
       "      <td>0.007797</td>\n",
       "      <td>...</td>\n",
       "      <td>0.006322</td>\n",
       "      <td>0.015488</td>\n",
       "      <td>0.006638</td>\n",
       "      <td>0.018544</td>\n",
       "      <td>0.012644</td>\n",
       "      <td>0.063112</td>\n",
       "      <td>0.009693</td>\n",
       "      <td>0.018333</td>\n",
       "      <td>0.005479</td>\n",
       "      <td>0.016121</td>\n",
       "    </tr>\n",
       "    <tr>\n",
       "      <th>TAA</th>\n",
       "      <td>0.015625</td>\n",
       "      <td>0.015625</td>\n",
       "      <td>0.015625</td>\n",
       "      <td>0.015625</td>\n",
       "      <td>0.015625</td>\n",
       "      <td>0.015625</td>\n",
       "      <td>0.015625</td>\n",
       "      <td>0.015625</td>\n",
       "      <td>0.015625</td>\n",
       "      <td>0.015625</td>\n",
       "      <td>...</td>\n",
       "      <td>0.015625</td>\n",
       "      <td>0.015625</td>\n",
       "      <td>0.015625</td>\n",
       "      <td>0.015625</td>\n",
       "      <td>0.015625</td>\n",
       "      <td>0.015625</td>\n",
       "      <td>0.015625</td>\n",
       "      <td>0.015625</td>\n",
       "      <td>0.015625</td>\n",
       "      <td>0.015625</td>\n",
       "    </tr>\n",
       "    <tr>\n",
       "      <th>CCA</th>\n",
       "      <td>0.008847</td>\n",
       "      <td>0.001712</td>\n",
       "      <td>0.002997</td>\n",
       "      <td>0.033105</td>\n",
       "      <td>0.023545</td>\n",
       "      <td>0.010987</td>\n",
       "      <td>0.002997</td>\n",
       "      <td>0.031963</td>\n",
       "      <td>0.028253</td>\n",
       "      <td>0.003710</td>\n",
       "      <td>...</td>\n",
       "      <td>0.002711</td>\n",
       "      <td>0.023116</td>\n",
       "      <td>0.001570</td>\n",
       "      <td>0.022260</td>\n",
       "      <td>0.015411</td>\n",
       "      <td>0.042095</td>\n",
       "      <td>0.003567</td>\n",
       "      <td>0.016838</td>\n",
       "      <td>0.012985</td>\n",
       "      <td>0.020405</td>\n",
       "    </tr>\n",
       "    <tr>\n",
       "      <th>AAG</th>\n",
       "      <td>0.008018</td>\n",
       "      <td>0.003511</td>\n",
       "      <td>0.008445</td>\n",
       "      <td>0.023152</td>\n",
       "      <td>0.006689</td>\n",
       "      <td>0.005171</td>\n",
       "      <td>0.017459</td>\n",
       "      <td>0.015609</td>\n",
       "      <td>0.008919</td>\n",
       "      <td>0.011054</td>\n",
       "      <td>...</td>\n",
       "      <td>0.009868</td>\n",
       "      <td>0.007638</td>\n",
       "      <td>0.013474</td>\n",
       "      <td>0.007828</td>\n",
       "      <td>0.007116</td>\n",
       "      <td>0.061628</td>\n",
       "      <td>0.019689</td>\n",
       "      <td>0.014850</td>\n",
       "      <td>0.020733</td>\n",
       "      <td>0.014565</td>\n",
       "    </tr>\n",
       "    <tr>\n",
       "      <th>TTA</th>\n",
       "      <td>0.012602</td>\n",
       "      <td>0.001733</td>\n",
       "      <td>0.002363</td>\n",
       "      <td>0.032399</td>\n",
       "      <td>0.024365</td>\n",
       "      <td>0.014650</td>\n",
       "      <td>0.004883</td>\n",
       "      <td>0.026570</td>\n",
       "      <td>0.019849</td>\n",
       "      <td>0.003991</td>\n",
       "      <td>...</td>\n",
       "      <td>0.002468</td>\n",
       "      <td>0.017013</td>\n",
       "      <td>0.003308</td>\n",
       "      <td>0.021739</td>\n",
       "      <td>0.012497</td>\n",
       "      <td>0.041220</td>\n",
       "      <td>0.005041</td>\n",
       "      <td>0.030246</td>\n",
       "      <td>0.010502</td>\n",
       "      <td>0.013705</td>\n",
       "    </tr>\n",
       "  </tbody>\n",
       "</table>\n",
       "<p>5 rows × 64 columns</p>\n",
       "</div>"
      ],
      "text/plain": [
       "          ATA       TAA       CCA       AAG       TTA       ACT       CCT  \\\n",
       "ATA  0.008113  0.004109  0.008745  0.028343  0.030766  0.010958  0.012011   \n",
       "TAA  0.015625  0.015625  0.015625  0.015625  0.015625  0.015625  0.015625   \n",
       "CCA  0.008847  0.001712  0.002997  0.033105  0.023545  0.010987  0.002997   \n",
       "AAG  0.008018  0.003511  0.008445  0.023152  0.006689  0.005171  0.017459   \n",
       "TTA  0.012602  0.001733  0.002363  0.032399  0.024365  0.014650  0.004883   \n",
       "\n",
       "          TAT       AGC       CAC  ...       CGT       TCT       CGG  \\\n",
       "ATA  0.020651  0.011906  0.007797  ...  0.006322  0.015488  0.006638   \n",
       "TAA  0.015625  0.015625  0.015625  ...  0.015625  0.015625  0.015625   \n",
       "CCA  0.031963  0.028253  0.003710  ...  0.002711  0.023116  0.001570   \n",
       "AAG  0.015609  0.008919  0.011054  ...  0.009868  0.007638  0.013474   \n",
       "TTA  0.026570  0.019849  0.003991  ...  0.002468  0.017013  0.003308   \n",
       "\n",
       "          TCA       GGT       GAA       CTC       ACA       GTG       GCT  \n",
       "ATA  0.018544  0.012644  0.063112  0.009693  0.018333  0.005479  0.016121  \n",
       "TAA  0.015625  0.015625  0.015625  0.015625  0.015625  0.015625  0.015625  \n",
       "CCA  0.022260  0.015411  0.042095  0.003567  0.016838  0.012985  0.020405  \n",
       "AAG  0.007828  0.007116  0.061628  0.019689  0.014850  0.020733  0.014565  \n",
       "TTA  0.021739  0.012497  0.041220  0.005041  0.030246  0.010502  0.013705  \n",
       "\n",
       "[5 rows x 64 columns]"
      ]
     },
     "execution_count": 13,
     "metadata": {},
     "output_type": "execute_result"
    }
   ],
   "source": [
    "transition_counts = np.ones((len(lu_codons), len(lu_codons)))\n",
    "for gene in all_codons:\n",
    "    for i in range(0, len(gene)-1):\n",
    "        codon0 = lu_codons.index(gene[i])\n",
    "        codon1 = lu_codons.index(gene[i+1])\n",
    "        transition_counts[codon0, codon1] += 1\n",
    "transition_totals = transition_counts.sum(axis=1)\n",
    "transition_probs = np.dot(np.diag(1/transition_totals), transition_counts)\n",
    "transition_probs_df = pd.DataFrame(transition_probs, index=lu_codons, columns=lu_codons)\n",
    "transition_probs_df.head()"
   ]
  },
  {
   "cell_type": "markdown",
   "metadata": {},
   "source": [
    "#### Build the HMM\n",
    "\n",
    "In this case, rather than train the HMM (which is [also an option using the `model.fit()` function](https://hmmlearn.readthedocs.io/en/latest/tutorial.html#training-hmm-parameters-and-inferring-the-hidden-states)), we plug in our own calculated matrices to create the model object."
   ]
  },
  {
   "cell_type": "code",
   "execution_count": 14,
   "metadata": {},
   "outputs": [],
   "source": [
    "hmm = MultinomialHMM(n_components=len(lu_codons), \n",
    "                     startprob_prior=initial_probs_np, \n",
    "                     transmat_prior=transition_probs, \n",
    "                     verbose=False,  \n",
    "                     init_params='')\n",
    "hmm.transmat_ = transition_probs\n",
    "hmm.emissionprob_ = emission_prob\n",
    "hmm.startprob_ = initial_probs_np\n",
    "hmm.n_features = len(lu_aas)"
   ]
  },
  {
   "cell_type": "markdown",
   "metadata": {},
   "source": [
    "Having built the model, we can sample a randomly-generated sequence and check that everything makes sense."
   ]
  },
  {
   "cell_type": "code",
   "execution_count": 15,
   "metadata": {},
   "outputs": [],
   "source": [
    "sample_aa, sample_nuc = hmm.sample(n_samples=10, random_state=21)"
   ]
  },
  {
   "cell_type": "code",
   "execution_count": 16,
   "metadata": {},
   "outputs": [
    {
     "data": {
      "text/plain": [
       "('LRKTEYCMTI', 'TTGCGAAAAACCGAGTATTGCATGACGATC')"
      ]
     },
     "execution_count": 16,
     "metadata": {},
     "output_type": "execute_result"
    }
   ],
   "source": [
    "assert emission_prob[sample_nuc[0], sample_aa[0]] == 1\n",
    "decode_seq(sample_aa.reshape(-1), seqtype='prot'), decode_seq(sample_nuc.reshape(-1), seqtype='dna')"
   ]
  },
  {
   "cell_type": "markdown",
   "metadata": {},
   "source": [
    "#### HMM performance\n",
    "\n",
    "Here we extract a single protein, predict the most likely codon usage under our HMM, and see how well it compares to the native DNA sequence."
   ]
  },
  {
   "cell_type": "code",
   "execution_count": 17,
   "metadata": {},
   "outputs": [
    {
     "data": {
      "text/plain": [
       "'MKFLLGNINSTVLTMAGLRVLSSMIELTAAIVMLVTNDVRKAVVVNSILAIVGPLIFIITMTVGIYQIAGQLSYAKLILIFTGVVLILAGVHK*'"
      ]
     },
     "execution_count": 17,
     "metadata": {},
     "output_type": "execute_result"
    }
   ],
   "source": [
    "test_protein = list(test_translations.keys())[10]\n",
    "test_dna = test_translations[test_protein]\n",
    "test_protein"
   ]
  },
  {
   "cell_type": "code",
   "execution_count": 18,
   "metadata": {},
   "outputs": [],
   "source": [
    "prot_e = encode_seq(test_protein, seqtype='prot')\n",
    "mle_dna_indices = hmm.predict(prot_e.reshape(-1, 1))\n",
    "pred_dna = decode_seq(mle_dna_indices)\n",
    "\n",
    "assert str(Seq(pred_dna).translate()) == test_protein"
   ]
  },
  {
   "cell_type": "markdown",
   "metadata": {},
   "source": [
    "Not only can we predict the most likely codon at each amino acid position, but we can also predict the probability distribution among all the codons. For example, at index location 4 in the current protein, we can see the probability distribution:"
   ]
  },
  {
   "cell_type": "code",
   "execution_count": 19,
   "metadata": {},
   "outputs": [
    {
     "name": "stdout",
     "output_type": "stream",
     "text": [
      "Codon\tP(Codon)\n",
      "TTA\t0.20\n",
      "TTG\t0.10\n",
      "CTT\t0.26\n",
      "CTA\t0.05\n",
      "CTG\t0.13\n",
      "CTC\t0.25\n"
     ]
    }
   ],
   "source": [
    "state_probabilities = hmm.predict_proba(prot_e.reshape(-1, 1))\n",
    "print('Codon\\tP(Codon)')\n",
    "for i, prob in enumerate(state_probabilities[4,]):\n",
    "    codon = lu_codons[i]\n",
    "    if prob > 0:\n",
    "        print(f'{codon}\\t{prob:.2f}')"
   ]
  },
  {
   "cell_type": "markdown",
   "metadata": {},
   "source": [
    "We can see that \"CTA\" is the least likely in this context, and \"CTT\" is the most likely (and is the one we see in both the predicted and native sequences)."
   ]
  },
  {
   "cell_type": "code",
   "execution_count": 20,
   "metadata": {},
   "outputs": [
    {
     "name": "stdout",
     "output_type": "stream",
     "text": [
      "Seq1 ATGAAATTTTTACTTGGAAATATCAATTCTACTGTTTTAACAATGGCGGGATTACGAGTT\n",
      "                *              ****  *  ** *           ** *  *  *\n",
      "Seq2 ATGAAATTTTTGCTTGGAAATATCAACAGCACAGTGCTGACAATGGCGGGGCTTCGTGTG\n",
      "\n",
      "Seq1 TTATCCTCTATGATTGAGCTGACGGCAGCAATTGTCATGCTTGTGACCAACGATGTCCGG\n",
      "     * *  *  *              *  *  *                 *  *      * *\n",
      "Seq2 CTTTCTTCAATGATTGAGCTGACAGCTGCCATTGTCATGCTTGTGACAAATGATGTCAGA\n",
      "\n",
      "Seq1 AAGGCGGTTGTGGTTAACAGCATTCTCGCTATTGTCGGTCCGTTGATTTTTATCATTACA\n",
      "       *        *  *           *  *        *   *                *\n",
      "Seq2 AAAGCGGTTGTTGTCAACAGCATTCTTGCCATTGTCGGCCCGCTGATTTTTATCATTACG\n",
      "\n",
      "Seq1 ATGACTGTCGGAATCTACCAAATTGCCGGGCAGCTTTCGTATGCAAAGCTGATTCTGATT\n",
      "          *     *  *  *           *        *               *     \n",
      "Seq2 ATGACAGTCGGCATTTATCAAATTGCCGGACAGCTTTCTTATGCAAAGCTGATTTTGATT\n",
      "\n",
      "Seq1 TTTACGGGTGTTGTCTTGATTTTGGCGGGTGTTCATAAATAA\n",
      "          *  *     **     * *  *               \n",
      "Seq2 TTTACAGGCGTTGTGCTGATTCTTGCCGGTGTTCATAAATAA\n",
      "\n"
     ]
    }
   ],
   "source": [
    "def align(seq1, seq2, WIDTH=60):\n",
    "    '''Align two input sequences of equal length,\n",
    "    with *  between indicating mismatches.'''\n",
    "    lines = int(np.ceil(len(seq1) / WIDTH))\n",
    "    match = ''\n",
    "    for i, c1 in enumerate(seq1):\n",
    "        indicator = ' '\n",
    "        if c1 != seq2[i]:\n",
    "            indicator = '*'\n",
    "        match += indicator\n",
    "    \n",
    "    for i in range(lines):\n",
    "        print('Seq1', seq1[i*WIDTH:i*WIDTH+WIDTH])\n",
    "        print('    ', match[i*WIDTH:i*WIDTH+WIDTH])\n",
    "        print('Seq2', seq2[i*WIDTH:i*WIDTH+WIDTH])\n",
    "        print()\n",
    "\n",
    "align(test_dna, pred_dna)"
   ]
  },
  {
   "cell_type": "markdown",
   "metadata": {},
   "source": [
    "That's a nice visual, to see so many nucleotides matching! But how does it look quantitatively?"
   ]
  },
  {
   "cell_type": "code",
   "execution_count": 21,
   "metadata": {},
   "outputs": [
    {
     "name": "stdout",
     "output_type": "stream",
     "text": [
      "HMM fraction bps matching: 0.833\n"
     ]
    }
   ],
   "source": [
    "def fraction_matches(seq1, seq2):\n",
    "    '''Compare sequences in terms of matching nucleotides.'''\n",
    "    matches = 0\n",
    "    for i, c1 in enumerate(seq1):\n",
    "        if c1 == seq2[i]:\n",
    "            matches += 1\n",
    "    return {'length':len(seq1), \n",
    "            'n_matches':matches, \n",
    "            'n_mismatches':len(seq1) - matches, \n",
    "            'fraction_matches':matches/len(seq1)}\n",
    "\n",
    "fm_hmm = fraction_matches(test_dna, pred_dna)\n",
    "\n",
    "print(f'HMM fraction bps matching: {fm_hmm[\"fraction_matches\"]:.3f}')"
   ]
  },
  {
   "cell_type": "markdown",
   "metadata": {},
   "source": [
    "So 83% of predicted nucleotides match those actually found to code for this protein. Is that good model performance?\n",
    "\n",
    "One comparison would be to compare our predictions with random DNA sequences, but that's not very interesting. A better comparison is to benchmark with a standard approach to codon optimization: which is, to always predict the most common codon for any given amino acid.\n",
    "\n",
    "For that, we'll want a codon usage table."
   ]
  },
  {
   "cell_type": "code",
   "execution_count": 22,
   "metadata": {},
   "outputs": [
    {
     "data": {
      "text/html": [
       "<div>\n",
       "<style scoped>\n",
       "    .dataframe tbody tr th:only-of-type {\n",
       "        vertical-align: middle;\n",
       "    }\n",
       "\n",
       "    .dataframe tbody tr th {\n",
       "        vertical-align: top;\n",
       "    }\n",
       "\n",
       "    .dataframe thead th {\n",
       "        text-align: right;\n",
       "    }\n",
       "</style>\n",
       "<table border=\"1\" class=\"dataframe\">\n",
       "  <thead>\n",
       "    <tr style=\"text-align: right;\">\n",
       "      <th></th>\n",
       "      <th>amino_acid</th>\n",
       "      <th>codon</th>\n",
       "      <th>frequency</th>\n",
       "    </tr>\n",
       "  </thead>\n",
       "  <tbody>\n",
       "    <tr>\n",
       "      <th>64</th>\n",
       "      <td>V</td>\n",
       "      <td>GTG</td>\n",
       "      <td>0.257938</td>\n",
       "    </tr>\n",
       "    <tr>\n",
       "      <th>65</th>\n",
       "      <td>V</td>\n",
       "      <td>GTT</td>\n",
       "      <td>0.287079</td>\n",
       "    </tr>\n",
       "    <tr>\n",
       "      <th>66</th>\n",
       "      <td>W</td>\n",
       "      <td>TGG</td>\n",
       "      <td>1.000000</td>\n",
       "    </tr>\n",
       "    <tr>\n",
       "      <th>67</th>\n",
       "      <td>Y</td>\n",
       "      <td>TAC</td>\n",
       "      <td>0.347468</td>\n",
       "    </tr>\n",
       "    <tr>\n",
       "      <th>68</th>\n",
       "      <td>Y</td>\n",
       "      <td>TAT</td>\n",
       "      <td>0.652532</td>\n",
       "    </tr>\n",
       "  </tbody>\n",
       "</table>\n",
       "</div>"
      ],
      "text/plain": [
       "   amino_acid codon  frequency\n",
       "64          V   GTG   0.257938\n",
       "65          V   GTT   0.287079\n",
       "66          W   TGG   1.000000\n",
       "67          Y   TAC   0.347468\n",
       "68          Y   TAT   0.652532"
      ]
     },
     "execution_count": 22,
     "metadata": {},
     "output_type": "execute_result"
    }
   ],
   "source": [
    "def build_codon_usage_table(prot_dna_dict):\n",
    "    '''Returns a codon usage table.'''\n",
    "    cu_dict = {'amino_acid':[],\n",
    "               'codon':[]}\n",
    "    for prot in prot_dna_dict.keys():\n",
    "        codons = get_list_of_codons(prot_dna_dict[prot])\n",
    "        for i, aa in enumerate(prot):\n",
    "            cu_dict['amino_acid'].append(aa)\n",
    "            cu_dict['codon'].append(codons[i])\n",
    "    cu_df = pd.DataFrame(cu_dict)\n",
    "    cu_df = (cu_df\n",
    "             .groupby(['amino_acid', 'codon'])\n",
    "             .size()\n",
    "             .reset_index()\n",
    "            )\n",
    "    cu_df['sum_aa'] = (cu_df\n",
    "                       .groupby('amino_acid')[0]\n",
    "                       .transform('sum')\n",
    "                      )\n",
    "    cu_df = (cu_df\n",
    "             .assign(frequency = lambda x: x[0] / x['sum_aa'])\n",
    "            )\n",
    "    \n",
    "    return cu_df[['amino_acid', 'codon', 'frequency']]\n",
    "    \n",
    "cu_table = build_codon_usage_table(train_translations)\n",
    "cu_table.to_csv('train_codon_usage.tsv', sep='\\t', index=False)\n",
    "cu_table.tail(5)"
   ]
  },
  {
   "cell_type": "code",
   "execution_count": 23,
   "metadata": {},
   "outputs": [],
   "source": [
    "def get_most_common_codons(protein, codon_usage_table):\n",
    "    '''Return a DNA sequence using the most frequent codons.'''\n",
    "    mlaa = (codon_usage_table\n",
    "            .sort_values(by='frequency', ascending=False)\n",
    "            .drop_duplicates(subset=['amino_acid'])\n",
    "           )\n",
    "    dna = ''\n",
    "    for aa in protein:\n",
    "        dna += mlaa.query(f'amino_acid == \"{aa}\"').codon.values[0]\n",
    "    return dna\n",
    "\n",
    "assert get_most_common_codons('YWY', cu_table) == 'TATTGGTAT'"
   ]
  },
  {
   "cell_type": "markdown",
   "metadata": {},
   "source": [
    "Now, how does the codon usage model compare to the HMM on this test protein?"
   ]
  },
  {
   "cell_type": "code",
   "execution_count": 24,
   "metadata": {},
   "outputs": [
    {
     "name": "stdout",
     "output_type": "stream",
     "text": [
      "Codon usage fraction bps matching: 0.780\n"
     ]
    }
   ],
   "source": [
    "cu_dna = get_most_common_codons(test_protein, cu_table)\n",
    "fm_cu = fraction_matches(test_dna, cu_dna)\n",
    "\n",
    "print(f'Codon usage fraction bps matching: {fm_cu[\"fraction_matches\"]:.3f}')"
   ]
  },
  {
   "cell_type": "markdown",
   "metadata": {},
   "source": [
    "For this example, the HMM outperformed the naive approach of just assigning the most common codons!\n",
    "\n",
    "What about for a larger test set?"
   ]
  },
  {
   "cell_type": "code",
   "execution_count": 29,
   "metadata": {},
   "outputs": [],
   "source": [
    "TEST_N = min(100, len(test_translations))\n",
    "hmm_fms = np.zeros(TEST_N)\n",
    "cu_fms = np.zeros(TEST_N)\n",
    "for i, test_protein in enumerate(test_translations.keys()):\n",
    "    if i >= TEST_N:\n",
    "        break\n",
    "        \n",
    "    test_dna = test_translations[test_protein]\n",
    "    \n",
    "    # HMM\n",
    "    prot_e = encode_seq(test_protein, seqtype='prot')\n",
    "    mle_dna_indices = hmm.predict(prot_e.reshape(-1, 1))\n",
    "    pred_dna = decode_seq(mle_dna_indices)\n",
    "    fm_hmm = fraction_matches(test_dna, pred_dna)\n",
    "    hmm_fms[i] = fm_hmm[\"fraction_matches\"]\n",
    "    \n",
    "    # Codon usage\n",
    "    cu_dna = get_most_common_codons(test_protein, cu_table)\n",
    "    fm_cu = fraction_matches(test_dna, cu_dna)\n",
    "    cu_fms[i] = fm_cu[\"fraction_matches\"]"
   ]
  },
  {
   "cell_type": "code",
   "execution_count": 30,
   "metadata": {},
   "outputs": [
    {
     "name": "stdout",
     "output_type": "stream",
     "text": [
      "HMM: 0.806, CU: 0.794\n"
     ]
    }
   ],
   "source": [
    "print(f'HMM: {np.mean(hmm_fms):.3f}, CU: {np.mean(cu_fms):.3f}')"
   ]
  },
  {
   "cell_type": "code",
   "execution_count": 31,
   "metadata": {},
   "outputs": [
    {
     "data": {
      "image/png": "[encoded data removed]",
      "text/plain": [
       "<Figure size 432x288 with 1 Axes>"
      ]
     },
     "metadata": {
      "needs_background": "light"
     },
     "output_type": "display_data"
    }
   ],
   "source": [
    "plt.hist(hmm_fms, 10, facecolor='blue', alpha=0.5, label='HMM')\n",
    "plt.hist(cu_fms, 10, facecolor='orange', alpha=0.5, label='CU')\n",
    "plt.legend()\n",
    "plt.xlabel('Fraction nucleotide matches')\n",
    "plt.ylabel('Counts');"
   ]
  },
  {
   "cell_type": "code",
   "execution_count": 32,
   "metadata": {},
   "outputs": [
    {
     "data": {
      "text/plain": [
       "6.656586080520897e-07"
      ]
     },
     "execution_count": 32,
     "metadata": {},
     "output_type": "execute_result"
    }
   ],
   "source": [
    "_, pval = ttest_rel(hmm_fms, cu_fms, alternative = \"greater\")\n",
    "pval"
   ]
  },
  {
   "cell_type": "markdown",
   "metadata": {},
   "source": [
    "The HMM is outperforming the codon usage approach by a statistically significant margin!"
   ]
  },
  {
   "cell_type": "code",
   "execution_count": null,
   "metadata": {},
   "outputs": [],
   "source": []
  }
 ],
 "metadata": {
  "kernelspec": {
   "display_name": "Python 3",
   "language": "python",
   "name": "python3"
  },
  "language_info": {
   "codemirror_mode": {
    "name": "ipython",
    "version": 3
   },
   "file_extension": ".py",
   "mimetype": "text/x-python",
   "name": "python",
   "nbconvert_exporter": "python",
   "pygments_lexer": "ipython3",
   "version": "3.8.6"
  }
 },
 "nbformat": 4,
 "nbformat_minor": 4
}
