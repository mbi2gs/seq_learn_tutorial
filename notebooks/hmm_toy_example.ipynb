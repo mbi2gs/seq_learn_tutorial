{
 "cells": [
  {
   "cell_type": "code",
   "execution_count": 1,
   "metadata": {},
   "outputs": [],
   "source": [
    "import numpy as np\n",
    "from numpy import log2\n",
    "import pandas as pd\n",
    "from hmmlearn.hmm import MultinomialHMM"
   ]
  },
  {
   "cell_type": "markdown",
   "metadata": {},
   "source": [
    "#### Setting up an example\n",
    "\n",
    "Inspired by [this lecture](https://www.csb.pitt.edu/ComputationalGenomics/Lectures/Lec5.pdf)\n",
    "from the U of Pittsburg (starting at slide 11).\n",
    "\n",
    "Consider two hidden states (\"H\" for high GC and \"L\" for low GC) which can each \"emit\" the nucleotides A, C, G and T.\n",
    "\n",
    "Using [\"MultinomialHMM\"](https://hmmlearn.readthedocs.io/en/latest/api.html#hmmlearn.hmm.MultinomialHMM)\n",
    "because the emissions are discrete states.\n",
    "\n",
    "In \"hmmlearn\" speak, **states** are **components** and emmitted **symbols** are **features**."
   ]
  },
  {
   "cell_type": "code",
   "execution_count": 2,
   "metadata": {},
   "outputs": [],
   "source": [
    "states = ['H', 'L']\n",
    "nucleotides = ['A', 'C', 'G', 'T']\n",
    "emission_p = np.array([[0.2, 0.3, 0.3, 0.2], [0.3, 0.2, 0.2, 0.3]]) # shape = len(states), len(symbols)\n",
    "transition_p = np.array([[0.5, 0.5], [0.4, 0.6]])\n",
    "initial_p = np.array([0.5, 0.5])"
   ]
  },
  {
   "cell_type": "code",
   "execution_count": 3,
   "metadata": {},
   "outputs": [],
   "source": [
    "assert transition_p[0, 0] == 0.5 # prob(H|H) = 0.5\n",
    "assert transition_p[1, 0] == 0.4 # prob(H|L) = 0.4\n",
    "assert emission_p[0, 0] == 0.2   # prob(A|H) = 0.2\n",
    "assert emission_p[1, 2] == 0.2   # prob(G|L) = 0.2"
   ]
  },
  {
   "cell_type": "markdown",
   "metadata": {},
   "source": [
    "Build model"
   ]
  },
  {
   "cell_type": "code",
   "execution_count": 4,
   "metadata": {},
   "outputs": [],
   "source": [
    "hmm = MultinomialHMM(n_components=len(states), \n",
    "                     startprob_prior=initial_p, \n",
    "                     transmat_prior=transition_p, \n",
    "                     verbose=False,  \n",
    "                     init_params='')\n",
    "hmm.transmat_ = transition_p\n",
    "hmm.emissionprob_ = emission_p\n",
    "hmm.startprob_ = initial_p\n",
    "hmm.n_features = len(nucleotides)"
   ]
  },
  {
   "cell_type": "code",
   "execution_count": 5,
   "metadata": {},
   "outputs": [],
   "source": [
    "sample_dna, sample_hid = hmm.sample(n_samples=10, random_state=21)"
   ]
  },
  {
   "cell_type": "code",
   "execution_count": 6,
   "metadata": {},
   "outputs": [
    {
     "data": {
      "text/plain": [
       "(array([1, 0, 0, 2, 2, 3, 0, 3, 3, 1]), array([0, 1, 0, 0, 0, 0, 0, 0, 1, 1]))"
      ]
     },
     "execution_count": 6,
     "metadata": {},
     "output_type": "execute_result"
    }
   ],
   "source": [
    "sample_dna.ravel(), sample_hid.ravel()"
   ]
  },
  {
   "cell_type": "markdown",
   "metadata": {},
   "source": [
    "#### Some helper functions"
   ]
  },
  {
   "cell_type": "code",
   "execution_count": 13,
   "metadata": {},
   "outputs": [],
   "source": [
    "def encode_seq(symbols, seqtype='dna'):\n",
    "    encdr = nucleotides\n",
    "    if seqtype != 'dna':\n",
    "        encdr = states\n",
    "    outseq = np.array([encdr.index(s) for s in symbols])\n",
    "    return outseq\n",
    "\n",
    "test_hl = 'HHHLLL'\n",
    "test_nuc = 'GGGAAA'\n",
    "assert encode_seq(test_hl, seqtype='states')[0] == states.index(test_aa[0]) and \\\n",
    "       encode_seq(test_hl, seqtype='states')[-1] == states.index(test_aa[-1])\n",
    "assert encode_seq(test_nuc, seqtype='dna')[0] == nucleotides.index(test_nuc[0]) and \\\n",
    "       encode_seq(test_nuc, seqtype='dna')[-1] == nucleotides.index(test_nuc[-1])\n",
    "\n",
    "def decode_seq(num_array, seqtype='dna'):\n",
    "    encdr = nucleotides\n",
    "    if seqtype != 'dna':\n",
    "        encdr = states\n",
    "    outseq = [encdr[s] for s in num_array]\n",
    "    return ''.join(outseq)\n",
    "\n",
    "assert decode_seq(encode_seq(test_nuc)) == test_nuc\n",
    "assert decode_seq(encode_seq(test_aa, seqtype='prot'), seqtype='prot') == test_hl"
   ]
  },
  {
   "cell_type": "code",
   "execution_count": 15,
   "metadata": {},
   "outputs": [
    {
     "data": {
      "text/plain": [
       "('CAAGGTATTC', 'HLHHHHHHLL')"
      ]
     },
     "execution_count": 15,
     "metadata": {},
     "output_type": "execute_result"
    }
   ],
   "source": [
    "decode_seq(sample_dna.reshape(-1), seqtype='dna'), decode_seq(sample_hid.reshape(-1), seqtype='hid')"
   ]
  },
  {
   "cell_type": "markdown",
   "metadata": {},
   "source": [
    "Viterbi algorithm for most probable sequence of hidden states to explain observations"
   ]
  },
  {
   "cell_type": "code",
   "execution_count": 16,
   "metadata": {},
   "outputs": [
    {
     "data": {
      "text/plain": [
       "array([2, 2, 1, 0, 1, 3, 2, 0, 0])"
      ]
     },
     "execution_count": 16,
     "metadata": {},
     "output_type": "execute_result"
    }
   ],
   "source": [
    "observed_dna = 'GGCACTGAA'\n",
    "obs_dna_e = encode_seq(observed_dna, seqtype='dna')\n",
    "obs_dna_e.ravel()"
   ]
  },
  {
   "cell_type": "code",
   "execution_count": 17,
   "metadata": {},
   "outputs": [
    {
     "data": {
      "text/plain": [
       "'HHHLLLLLL'"
      ]
     },
     "execution_count": 17,
     "metadata": {},
     "output_type": "execute_result"
    }
   ],
   "source": [
    "mle_hid_indices = hmm.predict(obs_dna_e.reshape(-1, 1))\n",
    "mle_hid = decode_seq(mle_hid_indices, seqtype='hid')\n",
    "mle_hid"
   ]
  },
  {
   "cell_type": "markdown",
   "metadata": {},
   "source": [
    "#### How Viterbi works\n",
    "\n",
    "Assume that the probability at position *pos* only depends on the emitted symbol and the hidden state at position *pos-1*.\n",
    "\n",
    "Start by calculating the probability of each hidden state given the first symbol \"G\" at position 0 and the probability of starting in each state.\n",
    "Determine the most likely hidden state at position 0 by comparing the two probabilities.\n",
    "\n",
    "Next, determine the probability of each hidden state at position 1, given the probability of the maximum of each hidden state previously calculated, and the second symbol \"G\".\n",
    "Determine the most likely hidden state at position 1 by comparing the two probabilities.\n"
   ]
  },
  {
   "cell_type": "code",
   "execution_count": 18,
   "metadata": {},
   "outputs": [
    {
     "data": {
      "text/plain": [
       "array([[0.15, 0.  , 0.  , 0.  , 0.  , 0.  , 0.  , 0.  , 0.  ],\n",
       "       [0.1 , 0.  , 0.  , 0.  , 0.  , 0.  , 0.  , 0.  , 0.  ]])"
      ]
     },
     "execution_count": 18,
     "metadata": {},
     "output_type": "execute_result"
    }
   ],
   "source": [
    "cum_prob = np.zeros((len(states), len(observed_dna)))\n",
    "gi = nucleotides.index('G')\n",
    "cum_prob[0, 0] = emission_p[0, gi] * initial_p[0]\n",
    "cum_prob[1, 0] = emission_p[1, gi] * initial_p[1]\n",
    "cum_prob"
   ]
  },
  {
   "cell_type": "code",
   "execution_count": 19,
   "metadata": {},
   "outputs": [
    {
     "data": {
      "text/plain": [
       "array([[0.15  , 0.0225, 0.    , 0.    , 0.    , 0.    , 0.    , 0.    ,\n",
       "        0.    ],\n",
       "       [0.1   , 0.015 , 0.    , 0.    , 0.    , 0.    , 0.    , 0.    ,\n",
       "        0.    ]])"
      ]
     },
     "execution_count": 19,
     "metadata": {},
     "output_type": "execute_result"
    }
   ],
   "source": [
    "pos = 1\n",
    "pi = nucleotides.index(observed_dna[pos])\n",
    "cum_prob[0, pos] = emission_p[0, pi] * max(cum_prob[0, pos-1]*transition_p[0, 0], cum_prob[1, pos-1]*transition_p[1, 0])\n",
    "cum_prob[1, pos] = emission_p[1, pi] * max(cum_prob[0, pos-1]*transition_p[0, 1], cum_prob[1, pos-1]*transition_p[1, 1])\n",
    "cum_prob"
   ]
  },
  {
   "cell_type": "markdown",
   "metadata": {},
   "source": [
    "`max(cum_prob[0, pos-1]*transition_p[0, 0], cum_prob[1, pos-1]*transition_p[1, 0])`\n",
    "\n",
    "^ This is where things can start to seem confusing, but they are intuitive if you take a moment to understand it\n",
    "\n",
    "We are selecting the most likely of two possibilities (e.g. the max() operation).\n",
    "The two possibilities are an H at the previous step transitioning to an H at this step OR an\n",
    "L at the previous step transitioning to an H at this step.\n",
    "\n",
    "We've already calculated the probability of an H or an L at the previous step, so we combine that with the transition probability."
   ]
  },
  {
   "cell_type": "code",
   "execution_count": 20,
   "metadata": {},
   "outputs": [
    {
     "data": {
      "text/plain": [
       "array([[0.15    , 0.0225  , 0.003375, 0.      , 0.      , 0.      ,\n",
       "        0.      , 0.      , 0.      ],\n",
       "       [0.1     , 0.015   , 0.00225 , 0.      , 0.      , 0.      ,\n",
       "        0.      , 0.      , 0.      ]])"
      ]
     },
     "execution_count": 20,
     "metadata": {},
     "output_type": "execute_result"
    }
   ],
   "source": [
    "pos = 2\n",
    "pi = nucleotides.index(observed_dna[pos])\n",
    "cum_prob[0, pos] = emission_p[0, pi] * max(cum_prob[0, pos-1]*transition_p[0, 0], cum_prob[1, pos-1]*transition_p[1, 0])\n",
    "cum_prob[1, pos] = emission_p[1, pi] * max(cum_prob[0, pos-1]*transition_p[0, 1], cum_prob[1, pos-1]*transition_p[1, 1])\n",
    "cum_prob"
   ]
  },
  {
   "cell_type": "markdown",
   "metadata": {},
   "source": [
    "And so on ...\n",
    "\n",
    "The only additional detail is that we generally operate using logarithms instead of the raw probabilities to avoid underflow. Recall that using logs, multiplications become summations.\n",
    "\n",
    "The whole thing generalizes to:"
   ]
  },
  {
   "cell_type": "code",
   "execution_count": 21,
   "metadata": {},
   "outputs": [
    {
     "name": "stdout",
     "output_type": "stream",
     "text": [
      "H\n",
      "H\n",
      "H\n",
      "L\n",
      "L\n",
      "L\n",
      "L\n",
      "L\n",
      "L\n"
     ]
    },
    {
     "data": {
      "text/plain": [
       "array([[ -2.73696559,  -5.47393119,  -8.21089678, -11.53282488,\n",
       "        -14.00675607, -17.32868416, -19.53958094, -22.86150904,\n",
       "        -25.65736832],\n",
       "       [ -3.32192809,  -6.05889369,  -8.79585928, -10.94786238,\n",
       "        -14.00675607, -16.48068725, -19.53958094, -22.01351213,\n",
       "        -24.48744332]])"
      ]
     },
     "execution_count": 21,
     "metadata": {},
     "output_type": "execute_result"
    }
   ],
   "source": [
    "pos = 0\n",
    "pi = nucleotides.index(observed_dna[pos])\n",
    "cum_prob[0, pos] = log2(emission_p[0, pi]) + log2(initial_p[0])\n",
    "cum_prob[1, pos] = log2(emission_p[1, pi]) + log2(initial_p[1])\n",
    "most_likely_hidden_index = np.argmax([cum_prob[0, pos], cum_prob[1, pos]])\n",
    "most_likely_hidden = states[most_likely_hidden_index]\n",
    "print(most_likely_hidden)\n",
    "\n",
    "for pos in range(1, len(observed_dna)):\n",
    "    pi = nucleotides.index(observed_dna[pos])\n",
    "    prob_H = max(cum_prob[0, pos-1] + log2(transition_p[0, 0]), cum_prob[1, pos-1] + log2(transition_p[1, 0]))\n",
    "    prob_L = max(cum_prob[0, pos-1] + log2(transition_p[0, 1]), cum_prob[1, pos-1] + log2(transition_p[1, 1]))\n",
    "    cum_prob[0, pos] = log2(emission_p[0, pi]) + prob_H\n",
    "    cum_prob[1, pos] = log2(emission_p[1, pi]) + prob_L\n",
    "    \n",
    "    most_likely_hidden_index = np.argmax([cum_prob[0, pos], cum_prob[1, pos]])\n",
    "    most_likely_hidden = states[most_likely_hidden_index]\n",
    "    if cum_prob[0, pos] == cum_prob[1, pos]:\n",
    "        # use hidden state estimate as tie breaker\n",
    "        most_likely_hidden_index = np.argmax([prob_H, prob_L])\n",
    "        most_likely_hidden = states[most_likely_hidden_index]\n",
    "    print(most_likely_hidden)\n",
    "cum_prob"
   ]
  },
  {
   "cell_type": "code",
   "execution_count": null,
   "metadata": {},
   "outputs": [],
   "source": []
  },
  {
   "cell_type": "code",
   "execution_count": null,
   "metadata": {},
   "outputs": [],
   "source": []
  },
  {
   "cell_type": "code",
   "execution_count": null,
   "metadata": {},
   "outputs": [],
   "source": []
  },
  {
   "cell_type": "code",
   "execution_count": null,
   "metadata": {},
   "outputs": [],
   "source": [
    "state_probabilities = hmm.predict_proba(prot_e.reshape(-1, 1))\n",
    "state_probabilities[4,]"
   ]
  },
  {
   "cell_type": "code",
   "execution_count": null,
   "metadata": {},
   "outputs": [],
   "source": []
  }
 ],
 "metadata": {
  "kernelspec": {
   "display_name": "Python 3",
   "language": "python",
   "name": "python3"
  },
  "language_info": {
   "codemirror_mode": {
    "name": "ipython",
    "version": 3
   },
   "file_extension": ".py",
   "mimetype": "text/x-python",
   "name": "python",
   "nbconvert_exporter": "python",
   "pygments_lexer": "ipython3",
   "version": "3.8.6"
  }
 },
 "nbformat": 4,
 "nbformat_minor": 4
}
