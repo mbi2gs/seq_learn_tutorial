{
 "cells": [
  {
   "cell_type": "code",
   "execution_count": 1,
   "id": "serial-vancouver",
   "metadata": {},
   "outputs": [],
   "source": [
    "import urllib.request\n",
    "import gzip\n",
    "import shutil\n",
    "import os\n",
    "import pickle\n",
    "\n",
    "import time\n",
    "import numpy as np\n",
    "from numpy.random import choice\n",
    "import matplotlib.pyplot as plt\n",
    "import pandas as pd\n",
    "from scipy.stats import ttest_rel\n",
    "import torch\n",
    "import torch.nn as nn\n",
    "from torch.utils.data import TensorDataset, DataLoader\n",
    "\n",
    "from Bio import SeqIO\n",
    "from Bio.Seq import Seq\n",
    "from Bio.SeqFeature import SeqFeature, FeatureLocation"
   ]
  },
  {
   "cell_type": "markdown",
   "id": "blank-toronto",
   "metadata": {},
   "source": [
    "#### Codon prediction using RNNs\n",
    "\n",
    "In this notebook we go through the process of training a recurrent neural network (RNN) to learn to approximate the codon use distribution of *Bacillus subtilis*.\n",
    "\n",
    "Instead of downloading and reading in the *B. subtilis* genome, we will use the same training and test sequences selected in notebook 1. Recall that a random 20% of the genes from the genome were set aside for the purpose of testing models."
   ]
  },
  {
   "cell_type": "code",
   "execution_count": 2,
   "id": "elementary-phase",
   "metadata": {},
   "outputs": [],
   "source": [
    "# Load the training and test data from notebook 1\n",
    "with open('test_translations.pickle', 'rb') as handle:\n",
    "    test_translations = pickle.load(handle)\n",
    "    \n",
    "with open('train_translations.pickle', 'rb') as handle:\n",
    "    train_translations = pickle.load(handle)"
   ]
  },
  {
   "cell_type": "markdown",
   "id": "abstract-transaction",
   "metadata": {},
   "source": [
    "Some helper functions to split a nucleotide sequence into codons and check for ambiguous codons or sequences with lengths that aren't a multiple of 3.\n",
    "\n",
    "As always, `assert` statements are little tests to make sure that things are working the way we expect. They are *very* helpful for catching silly bugs."
   ]
  },
  {
   "cell_type": "code",
   "execution_count": 3,
   "id": "alpine-laptop",
   "metadata": {},
   "outputs": [],
   "source": [
    "def get_list_of_codons(dna_seq):\n",
    "    codons = []\n",
    "    for i in range(0, len(dna_seq), 3):\n",
    "        codons.append(dna_seq[i:i+3])\n",
    "    return codons\n",
    "assert get_list_of_codons('ATGCCCGGGAAATTTTAG') == ['ATG', 'CCC', 'GGG', 'AAA', 'TTT', 'TAG']"
   ]
  },
  {
   "cell_type": "markdown",
   "id": "intermediate-emission",
   "metadata": {},
   "source": [
    "Notice that we include a new symbol for padding sequences of different lengths (\"&\")."
   ]
  },
  {
   "cell_type": "code",
   "execution_count": 4,
   "id": "settled-canyon",
   "metadata": {},
   "outputs": [],
   "source": [
    "STOP_SYMB = '&'\n",
    "u_aas = set([STOP_SYMB])\n",
    "u_codons = set([STOP_SYMB])\n",
    "translations = {}\n",
    "for protein in train_translations.keys():\n",
    "    nucleotide_seq = train_translations[protein]\n",
    "    aas = {aa for aa in protein}\n",
    "    codon = get_list_of_codons(nucleotide_seq)\n",
    "    if len(protein) == len(codon):\n",
    "        u_aas = u_aas.union(aas)\n",
    "        u_codons = u_codons.union(set(codon))\n",
    "lu_aas = list(u_aas)\n",
    "lu_codons = list(u_codons)"
   ]
  },
  {
   "cell_type": "markdown",
   "id": "expected-european",
   "metadata": {},
   "source": [
    "Familiar helper functions to encode and decode sequences."
   ]
  },
  {
   "cell_type": "code",
   "execution_count": 5,
   "id": "offshore-bottle",
   "metadata": {},
   "outputs": [],
   "source": [
    "def encode_seq(seq_obj, seqtype='dna'):\n",
    "    encdr = lu_codons\n",
    "    symbols = get_list_of_codons(seq_obj)\n",
    "    if seqtype != 'dna':\n",
    "        encdr = lu_aas\n",
    "        symbols = [c for c in seq_obj]\n",
    "    outseq = np.array([encdr.index(s) for s in symbols])\n",
    "    return outseq\n",
    "\n",
    "test_aa = 'MENILD'\n",
    "test_nuc = 'AAAAAAATAAGATAG'\n",
    "assert encode_seq(test_aa, seqtype='prot')[0] == lu_aas.index(test_aa[0]) and \\\n",
    "       encode_seq(test_aa, seqtype='prot')[-1] == lu_aas.index(test_aa[-1])\n",
    "assert encode_seq(test_nuc, seqtype='dna')[0] == lu_codons.index(test_nuc[0:3]) and \\\n",
    "       encode_seq(test_nuc, seqtype='dna')[-1] == lu_codons.index(test_nuc[-3:])\n",
    "\n",
    "def decode_seq(num_array, seqtype='dna'):\n",
    "    encdr = lu_codons\n",
    "    if seqtype != 'dna':\n",
    "        encdr = lu_aas\n",
    "    outseq = [encdr[s] for s in num_array]\n",
    "    return ''.join(outseq)\n",
    "\n",
    "assert decode_seq(encode_seq(test_nuc)) == test_nuc\n",
    "assert decode_seq(encode_seq(test_aa, seqtype='prot'), seqtype='prot') == test_aa"
   ]
  },
  {
   "cell_type": "markdown",
   "id": "friendly-preservation",
   "metadata": {},
   "source": [
    "Our data set will consist of PyTorch tensors. These are simply numerical matrices (like you would find in Numpy or MATLAB or R), but they include the ability to track gradients.\n",
    "\n",
    "This case is more complex than the toy example because all the sequences of different lengths. For now we will deal with this by padding the empty space at the end of a sequence with a stop symbol \"&\"."
   ]
  },
  {
   "cell_type": "code",
   "execution_count": 6,
   "id": "ecological-porcelain",
   "metadata": {},
   "outputs": [],
   "source": [
    "SEQ_LEN = max([len(x) for x in test_translations] \\\n",
    "            + [len(x) for x in train_translations])\n",
    "BATCH_SIZE = 1\n",
    "ENC_STOP_DNA = encode_seq(STOP_SYMB, seqtype='dna')[0]\n",
    "ENC_STOP_PROT = encode_seq(STOP_SYMB, seqtype='prot')[0]\n",
    "np.random.seed(2021)\n",
    "\n",
    "# Convert dictionary of protein/DNA pairs into tensors\n",
    "def seq_dict_to_tensors(seq_dict,\n",
    "                        seq_len,\n",
    "                        enc_stop_dna,\n",
    "                        enc_stop_prot):\n",
    "    assert len(seq_dict) > 0\n",
    "    \n",
    "    X = torch.ones(len(seq_dict),\n",
    "                   seq_len,\n",
    "                   dtype=torch.long)*enc_stop_prot\n",
    "    Y = torch.ones(len(seq_dict),\n",
    "                   seq_len,\n",
    "                   dtype=torch.long)*enc_stop_dna\n",
    "    for i, prot in enumerate(seq_dict):\n",
    "        codons = seq_dict[prot]\n",
    "        prot_encode = torch.LongTensor(encode_seq(prot, seqtype='prot'))\n",
    "        codn_encode = torch.LongTensor(encode_seq(codons, seqtype='dna'))\n",
    "\n",
    "        X[i, :len(prot_encode)] = prot_encode\n",
    "        Y[i, :len(prot_encode)] = codn_encode\n",
    "    return X, Y\n",
    "\n",
    "X_test, Y_test = seq_dict_to_tensors(test_translations,\n",
    "                                     SEQ_LEN,\n",
    "                                     ENC_STOP_DNA,\n",
    "                                     ENC_STOP_PROT)\n",
    "X_train, Y_train = seq_dict_to_tensors(train_translations,\n",
    "                                     SEQ_LEN,\n",
    "                                     ENC_STOP_DNA,\n",
    "                                     ENC_STOP_PROT)"
   ]
  },
  {
   "cell_type": "code",
   "execution_count": 7,
   "id": "disciplinary-dividend",
   "metadata": {},
   "outputs": [
    {
     "data": {
      "text/plain": [
       "(torch.Size([3389, 5489]), torch.Size([3389, 5489]))"
      ]
     },
     "execution_count": 7,
     "metadata": {},
     "output_type": "execute_result"
    }
   ],
   "source": [
    "X_train.shape, Y_train.shape"
   ]
  },
  {
   "cell_type": "code",
   "execution_count": 8,
   "id": "entitled-survey",
   "metadata": {},
   "outputs": [
    {
     "data": {
      "text/plain": [
       "(torch.Size([847, 5489]), torch.Size([847, 5489]))"
      ]
     },
     "execution_count": 8,
     "metadata": {},
     "output_type": "execute_result"
    }
   ],
   "source": [
    "X_test.shape, Y_test.shape"
   ]
  },
  {
   "cell_type": "markdown",
   "id": "alert-steam",
   "metadata": {},
   "source": [
    "Next, we load the data into a `Dataset` and `Dataloader` module. This is not strictly necessary for training, but it makes it easier to shuffle, sample from and batch the data. When projects get more complicated, these modules are very helpful."
   ]
  },
  {
   "cell_type": "code",
   "execution_count": 9,
   "id": "classical-craps",
   "metadata": {},
   "outputs": [],
   "source": [
    "train_data = TensorDataset(X_train, Y_train)\n",
    "train_loader = DataLoader(train_data, shuffle=True, batch_size=BATCH_SIZE)\n",
    "test_data = TensorDataset(X_test, Y_test)\n",
    "test_loader = DataLoader(test_data, shuffle=True, batch_size=BATCH_SIZE)"
   ]
  },
  {
   "cell_type": "markdown",
   "id": "buried-director",
   "metadata": {},
   "source": [
    "Here we make sure the data comes back out of the dataloader in the way we expect. The `batch_size` refers to the number of examples sampled simultaneously. In this case, we only retrieve one example sequence at a time. "
   ]
  },
  {
   "cell_type": "code",
   "execution_count": 10,
   "id": "sweet-opinion",
   "metadata": {},
   "outputs": [
    {
     "data": {
      "text/plain": [
       "(torch.Size([1, 5489]), torch.Size([1, 5489]))"
      ]
     },
     "execution_count": 10,
     "metadata": {},
     "output_type": "execute_result"
    }
   ],
   "source": [
    "# Make sure the data comes back out in the way we expect\n",
    "train_features, train_labels = next(iter(train_loader))\n",
    "train_features.shape, train_labels.shape"
   ]
  },
  {
   "cell_type": "markdown",
   "id": "supreme-headset",
   "metadata": {},
   "source": [
    "Here we set up a [python class](https://www.geeksforgeeks.org/python-classes-and-objects/) to manage the various pieces of our model. Again, this is not strictly necessary, but it makes life simpler. For example, the class will track useful information internally (e.g. `input_size`, `n_layers`). We can also create convenience functions such as `init_hidden()` to create a fresh hidden layer without having to remember what the precise dimensions ought to be. \n",
    "\n",
    "There are two pieces to our class. The `__init__()` function that is run when we first instantiate an instance of `MyGruClass`. This is where we initialize variables with the correct values, and instantiate the machine learning layers. A Gated Recurrent Unit (GRU) is a type of Recurrent Neural Network (RNN). Notice the Tensorflow GRU module is called here (which is the heart of our model). We also include an [\"embedding\" layer](https://towardsdatascience.com/neural-network-embeddings-explained-4d028e6f0526), which learns to represent our integer inputs (remember we converted our sequence of characters into a sequence of integers using the `encode_seq()` function) as a vector of foating point numbers. That vector of floating point numbers serves as the input to our GRU. Finally, we instantiate a `Linear` and `LogSoftMax` layer, both of which convert the GRU output into a sequence of log probabilities. \n",
    "\n",
    "The `forward()` function is where we actually *use* the layers we created with `__init()`. In `forward()` we take an input and cascade it through the layers to produce an output. The key to any kind of deep learning project is to carefully track the input and output dimensions of your layers. Notice my comments to help myself mentally track what each layer is spitting out, and what the next layer expects. It helps to be aware of the [`transpose()` function](https://pytorch.org/docs/stable/generated/torch.transpose.html), which allows you to swap (i.e. \"rotate\") two dimensions. This helps to match a tensor with the input expections of a layer. "
   ]
  },
  {
   "cell_type": "code",
   "execution_count": 11,
   "id": "substantial-bachelor",
   "metadata": {},
   "outputs": [],
   "source": [
    "class MyGruClass(nn.Module):\n",
    "    def __init__(self, input_size, hidden_size, predict_size, n_layers=1, bdir=False):\n",
    "        super(MyGruClass, self).__init__()\n",
    "        self.input_size = input_size\n",
    "        self.embed_size = input_size\n",
    "        self.hidden_size = hidden_size\n",
    "        self.predict_size = predict_size\n",
    "        self.n_layers = n_layers\n",
    "        self.n_directions = 2 if bdir else 1\n",
    "        \n",
    "        self.embedding = nn.Embedding(input_size, self.embed_size)\n",
    "        self.gru = nn.GRU(self.embed_size, \n",
    "                          hidden_size, \n",
    "                          num_layers=n_layers, \n",
    "                          bidirectional=bdir)\n",
    "\n",
    "        self.lin_out = nn.Linear(hidden_size*self.n_directions, predict_size)\n",
    "        self.sigmoid = nn.LogSoftmax(dim=2)\n",
    "        \n",
    "    def forward(self, input, hidden):\n",
    "        embedded = self.embedding(input)\n",
    "        # embedding shape: (batch_size, seq_len, hidden_size)\n",
    "        # transpose so that batch dim is in the 2nd index position\n",
    "        output = torch.transpose(embedded, 0, 1)\n",
    "        \n",
    "        output, hidden = self.gru(output, hidden)\n",
    "        # output shape: (seq_len, batch_size, n_directions*hidden_size)\n",
    "        # hidden shape: (n_directions*n_layers, batch_size, hidden_size)\n",
    "        \n",
    "        output = self.sigmoid(self.lin_out(output))\n",
    "        return output, hidden\n",
    "\n",
    "    def init_hidden(self, batch_size=1):\n",
    "        return torch.zeros(self.n_layers*self.n_directions, \n",
    "                           batch_size, \n",
    "                           self.hidden_size)\n",
    "\n",
    "    def input_dims(self):\n",
    "        print(f'Input dimensions are: (batch_size, seq_len, {self.input_size})')\n",
    "    \n",
    "    def output_dims(self):\n",
    "        print(f'Output dimensions are: (seq_len, batch_size, {self.predict_size})')\n",
    "    \n",
    "    def hidden_dims(self):\n",
    "        dnl = self.n_layers*self.n_directions\n",
    "        print(f'Hidden dimensions are: ({dnl}, batch_size, {self.hidden_size})')"
   ]
  },
  {
   "cell_type": "code",
   "execution_count": 12,
   "id": "stable-roommate",
   "metadata": {},
   "outputs": [
    {
     "name": "stdout",
     "output_type": "stream",
     "text": [
      "Input dimensions are: (batch_size, seq_len, 22)\n",
      "Hidden dimensions are: (1, batch_size, 10)\n",
      "Output dimensions are: (seq_len, batch_size, 65)\n"
     ]
    }
   ],
   "source": [
    "# Using convenience functions in MyGruClass to print expected dimensions\n",
    "test_model = MyGruClass(len(lu_aas), 10, len(lu_codons))\n",
    "test_model.input_dims(), test_model.hidden_dims(), test_model.output_dims();"
   ]
  },
  {
   "cell_type": "markdown",
   "id": "accurate-nylon",
   "metadata": {},
   "source": [
    "The `train()` function is where the action happens. Here we instantiate our model, and start feeding data to it. We select the Negative Log-Likelihood Loss `NLLLoss()` [function](https://pytorch.org/docs/stable/generated/torch.nn.NLLLoss.html) as our optimization function because it determines whether a log probality (the output of our GRU) correctly classifies the input. In other words, the more probability the model assigns to the correct category, the more the the model is \"rewarded\". \n",
    "\n",
    "In our case, the model will output a vector of 65 probabilities (log transformed), one each possible codon (plus the buffer symbol \"&\"). For every input amino acid, the model will assign the probability that it corresponds to each codon. The training data also has the true codons from the genom to which the model can compare its prediction. The more probability assigned to the correct codon, the more the current model weights are reinforced.\n",
    "\n",
    "There are many loss functions, all intended for different scenarios or that have different emphases. When starting a new project, it's worth reviewing the [available loss functions](https://medium.com/udacity-pytorch-challengers/a-brief-overview-of-loss-functions-in-pytorch-c0ddb78068f7) to pick the one or two that seem most appropriate.\n",
    "\n",
    "PyTorch also offers [multiple optimization algorithms](https://pytorch.org/docs/stable/optim.html). For this project we went with a common default: Adam. \n",
    "\n",
    "Having initialized training data, a model, a loss function, and an optimizer, we are ready to learn. The training process proceeds to loop through the data set in a random order (because we set the `shuffle` parameter on our Dataloader to `True`). A full loop through the data is called an \"epoch\". Within each epoch, we iterate through every training batch (in this case, batches are just one sequence long). Before feeding a sequence to our RNN, we reset the hidden state and the gradient. We then feed the training sequence to our model, and collect the prediction output. The output is then reorganized (using `transpose()`) to match the input expections of our NLLLoss function. Once we get a loss value, we call `backward()` to calculate derivatives, and which are fed to the optimization function, which updates the model weights. It's remarkable how much PyTorch keeps track of for us.\n",
    "\n",
    "Finally, there are some print statements to keep track of where we are in the loop, and whether the model is continuing to improve or not."
   ]
  },
  {
   "cell_type": "code",
   "execution_count": 13,
   "id": "royal-carolina",
   "metadata": {},
   "outputs": [],
   "source": [
    "def rm_buffer(x, y, stop_symbol):\n",
    "    buf_seq_locs = np.where(x.numpy() == ENC_STOP_PROT)\n",
    "    if buf_seq_locs[0].shape[0] > 0:\n",
    "        end_of_seq = buf_seq_locs[1][0]\n",
    "        x = x[:, :end_of_seq]\n",
    "        y = y[:, :end_of_seq]\n",
    "    return x, y\n",
    "\n",
    "def get_test_loss(model, loader, batch_size):\n",
    "    '''Calculate cumulative loss over test data set.'''\n",
    "    \n",
    "    print(\"   Testing...\")\n",
    "    criterion = nn.NLLLoss()\n",
    "    model.eval()\n",
    "    avg_loss = 0\n",
    "    for sample_x, sample_y in loader:\n",
    "        h = model.init_hidden(batch_size)\n",
    "        model.zero_grad()\n",
    "\n",
    "        # Remove buffer symbols\n",
    "        sample_x, sample_y = rm_buffer(sample_x, sample_y, ENC_STOP_PROT)\n",
    "\n",
    "        # the heart of the training!\n",
    "        out, h = model(sample_x, h)\n",
    "\n",
    "        # NLLLoss expects batch first, then class probabilities, then seq_len\n",
    "        out_T = torch.transpose(out, 0, 1)\n",
    "        out_T = out_T.transpose(1, 2)\n",
    "\n",
    "        loss = criterion(out_T, sample_y)\n",
    "        avg_loss += loss.item()\n",
    "    return avg_loss\n",
    "\n",
    "def train(loader_training,\n",
    "          loader_testing,\n",
    "          learn_rate=0.02, \n",
    "          input_dim=len(lu_aas), \n",
    "          hidden_dim=10,\n",
    "          output_dim=len(lu_codons),\n",
    "          batch_size=1,\n",
    "          EPOCHS=5):\n",
    "    \n",
    "    # Instantiating the model\n",
    "    model = MyGruClass(input_dim, hidden_dim, output_dim, n_layers=1)\n",
    "    \n",
    "    # Defining loss function and optimizer\n",
    "    criterion = nn.NLLLoss()\n",
    "    optimizer = torch.optim.Adam(model.parameters(), lr=learn_rate)\n",
    "    \n",
    "    print(\"Starting training\")\n",
    "    epoch_losses = {'epoch':[], 'train_loss':[], 'test_loss':[]}\n",
    "    epoch_times = []\n",
    "    # Start training loop\n",
    "    for epoch in range(1, EPOCHS+1):\n",
    "        test_loss = get_test_loss(model, loader_testing, batch_size)\n",
    "        train_loss = 0\n",
    "        model.train()\n",
    "        start_time = time.time()\n",
    "        \n",
    "        for sample_x, sample_y in loader_training:\n",
    "            h = model.init_hidden(batch_size)\n",
    "            model.zero_grad()\n",
    "            \n",
    "            # Remove buffer symbols\n",
    "            sample_x, sample_y = rm_buffer(sample_x, \n",
    "                                           sample_y, \n",
    "                                           ENC_STOP_PROT)\n",
    "            # the heart of the training!\n",
    "            out, h = model(sample_x, h)\n",
    "            \n",
    "            # NLLLoss expects batch first, then class probabilities,\n",
    "            # then seq_len\n",
    "            out_T = torch.transpose(out, 0, 1)\n",
    "            out_T = out_T.transpose(1, 2)\n",
    "            \n",
    "            # Calculate loss function, back propagate\n",
    "            loss = criterion(out_T, sample_y)\n",
    "            loss.backward()\n",
    "            optimizer.step()\n",
    "            train_loss += loss.item()\n",
    "        \n",
    "        # Calculate average loss / sample and store results\n",
    "        ave_train_loss = train_loss/len(loader_training)\n",
    "        ave_test_loss = test_loss/len(loader_testing)\n",
    "        current_time = time.time()\n",
    "        epoch_losses['epoch'].append(epoch)\n",
    "        epoch_losses['train_loss'].append(ave_train_loss)\n",
    "        epoch_losses['test_loss'].append(ave_test_loss)\n",
    "        \n",
    "        print(f'Epoch {epoch}/{EPOCHS} Done')\n",
    "        print(f'  Training Loss: {ave_train_loss:.3f}')\n",
    "        print(f'  Testing Loss: {ave_test_loss:.3f}')\n",
    "        print(f\"  Total Time Elapsed: {current_time-start_time:.1f} seconds\")\n",
    "        epoch_times.append(current_time-start_time)\n",
    "    print(f\"Total Training Time: {sum(epoch_times):.1f} seconds\")\n",
    "    \n",
    "    return model, pd.DataFrame(epoch_losses)"
   ]
  },
  {
   "cell_type": "markdown",
   "id": "environmental-noise",
   "metadata": {},
   "source": [
    "And now, for the big moment. We train the model! \n",
    "\n",
    "This will take a about 20 minutes to run."
   ]
  },
  {
   "cell_type": "code",
   "execution_count": 14,
   "id": "attached-television",
   "metadata": {},
   "outputs": [
    {
     "name": "stdout",
     "output_type": "stream",
     "text": [
      "Starting training\n",
      "   Testing...\n",
      "Epoch 1/3 Done\n",
      "  Training Loss: 1.118\n",
      "  Testing Loss: 4.165\n",
      "  Total Time Elapsed: 210.9 seconds\n",
      "   Testing...\n",
      "Epoch 2/3 Done\n",
      "  Training Loss: 1.092\n",
      "  Testing Loss: 1.110\n",
      "  Total Time Elapsed: 186.6 seconds\n",
      "   Testing...\n",
      "Epoch 3/3 Done\n",
      "  Training Loss: 1.090\n",
      "  Testing Loss: 1.093\n",
      "  Total Time Elapsed: 186.8 seconds\n",
      "Total Training Time: 584.3 seconds\n"
     ]
    }
   ],
   "source": [
    "gru_model, loss_history = train(train_loader, \n",
    "                                test_loader, \n",
    "                                learn_rate = 0.02, \n",
    "                                EPOCHS=3)"
   ]
  },
  {
   "cell_type": "markdown",
   "id": "simple-sequence",
   "metadata": {},
   "source": [
    "Training proceeded nicely. We can visualize the loss function value for the training and test sets over time to get a sense of when additional training is no longer useful."
   ]
  },
  {
   "cell_type": "code",
   "execution_count": 15,
   "id": "overall-announcement",
   "metadata": {},
   "outputs": [
    {
     "data": {
      "image/png": "[encoded data removed]",
      "text/plain": [
       "<Figure size 432x288 with 1 Axes>"
      ]
     },
     "metadata": {
      "needs_background": "light"
     },
     "output_type": "display_data"
    }
   ],
   "source": [
    "plt.plot(loss_history['epoch'], \n",
    "         loss_history['train_loss'], 'r', \n",
    "         loss_history['test_loss'], 'b--')\n",
    "plt.legend(['Training loss', 'Testing loss'])\n",
    "plt.xlabel('Epochs')\n",
    "plt.ylabel('NLLLoss')\n",
    "plt.suptitle('Loss over epochs', fontsize=16);"
   ]
  },
  {
   "cell_type": "markdown",
   "id": "enclosed-oasis",
   "metadata": {},
   "source": [
    "It looks like very little progress is made after 3 epochs.\n",
    "\n",
    "Let's see how the GRU's predictions compare to a real example!\n",
    "\n",
    "First, we need a function to handle all the steps of encoding and decoding the output and resetting the model. This function outputs both the predicted state (a string of H's and L's), and the associated probabilities."
   ]
  },
  {
   "cell_type": "code",
   "execution_count": 16,
   "id": "occupied-marine",
   "metadata": {},
   "outputs": [],
   "source": [
    "def predict(model, protein):\n",
    "    assert all([x in u_aas for x in protein])\n",
    "    assert isinstance(model, MyGruClass)\n",
    "    prot_encode = torch.LongTensor(encode_seq(protein, seqtype='prot'))\n",
    "    prot_encode = prot_encode[None, :]\n",
    "    h = model.init_hidden(1)\n",
    "    model.zero_grad()\n",
    "    out, _ = model(prot_encode, h)\n",
    "    out_state_indices = [int(torch.argmax(x)) for x in out[:,0]]\n",
    "    out_probs = np.array([torch.exp(x).detach().numpy() for x in out[:,0]])\n",
    "    codons = decode_seq(out_state_indices, 'dna')\n",
    "    return codons, out_probs\n",
    "\n",
    "test_aa = 'MENILD'\n",
    "test_nucleotides, test_probs = predict(gru_model, test_aa)\n",
    "assert len(test_nucleotides) == len(test_aa)*3\n",
    "test_codons = get_list_of_codons(test_nucleotides)\n",
    "assert all([x in u_codons for x in test_codons])"
   ]
  },
  {
   "cell_type": "markdown",
   "id": "announced-regard",
   "metadata": {},
   "source": [
    "Here we pick a sequence from our testing data that the model has never seen. We can align the prediction and the HMM generated sequence to see how closely they agree."
   ]
  },
  {
   "cell_type": "code",
   "execution_count": 17,
   "id": "essential-lawsuit",
   "metadata": {},
   "outputs": [
    {
     "name": "stdout",
     "output_type": "stream",
     "text": [
      "Seq1 ATGCACGTGTCAACATTTCAAGCATTAATGCTTATGCTTGCTTTCGGGTCATTTATAATT\n",
      "          *  ****        *  ** *              *  *  ****     *   \n",
      "Seq2 ATGCATGTAAGCACATTTCAGGCGCTTATGCTTATGCTTGCGTTTGGAAGCTTTATTATT\n",
      "\n",
      "Seq1 GCCCTGTTGACTTATATAAAGAAGAAATAG\n",
      "       *  ** *  *     *  *  *     *\n",
      "Seq2 GCGCTTCTTACATATATTAAAAAAAAATAA\n",
      "\n"
     ]
    }
   ],
   "source": [
    "test_protein = list(test_translations.keys())[0]\n",
    "test_dna = test_translations[test_protein]\n",
    "pred_dna, pred_prob_dna = predict(gru_model, test_protein)\n",
    "\n",
    "def align(seq1, seq2, WIDTH=60):\n",
    "    '''Align two input sequences of equal length,\n",
    "    with *  between indicating mismatches.'''\n",
    "    lines = int(np.ceil(len(seq1) / WIDTH))\n",
    "    match = ''\n",
    "    for i, c1 in enumerate(seq1):\n",
    "        indicator = ' '\n",
    "        if c1 != seq2[i]:\n",
    "            indicator = '*'\n",
    "        match += indicator\n",
    "    \n",
    "    for i in range(lines):\n",
    "        print('Seq1', seq1[i*WIDTH:i*WIDTH+WIDTH])\n",
    "        print('    ', match[i*WIDTH:i*WIDTH+WIDTH])\n",
    "        print('Seq2', seq2[i*WIDTH:i*WIDTH+WIDTH])\n",
    "        print()\n",
    "\n",
    "align(test_dna, pred_dna)"
   ]
  },
  {
   "cell_type": "markdown",
   "id": "english-perception",
   "metadata": {},
   "source": [
    "That's a nice visual, to see so many nucleotides matching! But how does it look quantitatively?"
   ]
  },
  {
   "cell_type": "code",
   "execution_count": 18,
   "id": "afraid-aggregate",
   "metadata": {},
   "outputs": [
    {
     "name": "stdout",
     "output_type": "stream",
     "text": [
      "RNN fraction bps matching: 0.722\n"
     ]
    }
   ],
   "source": [
    "def fraction_matches(seq1, seq2):\n",
    "    '''Compare sequences in terms of matching positions.'''\n",
    "    matches = 0\n",
    "    for i, c1 in enumerate(seq1):\n",
    "        if c1 == seq2[i]:\n",
    "            matches += 1\n",
    "    return {'length':len(seq1), \n",
    "            'n_matches':matches, \n",
    "            'n_mismatches':len(seq1) - matches, \n",
    "            'fraction_matches':matches/len(seq1)}\n",
    "\n",
    "fm_rnn = fraction_matches(test_dna, pred_dna)\n",
    "\n",
    "print(f'RNN fraction bps matching: {fm_rnn[\"fraction_matches\"]:.3f}')"
   ]
  },
  {
   "cell_type": "markdown",
   "id": "mineral-limit",
   "metadata": {},
   "source": [
    "So 80% of predicted nucleotides match those actually found to code for this protein. Is that good model performance?\n",
    "\n",
    "One comparison would be to compare our predictions with random DNA sequences, but that's not very interesting. A better comparison is to benchmark with a standard approach to codon optimization: which is, to always predict the most common codon for any given amino acid.\n",
    "\n",
    "For that, we'll return to our codon usage table."
   ]
  },
  {
   "cell_type": "code",
   "execution_count": 19,
   "id": "equal-wages",
   "metadata": {},
   "outputs": [
    {
     "data": {
      "text/html": [
       "<div>\n",
       "<style scoped>\n",
       "    .dataframe tbody tr th:only-of-type {\n",
       "        vertical-align: middle;\n",
       "    }\n",
       "\n",
       "    .dataframe tbody tr th {\n",
       "        vertical-align: top;\n",
       "    }\n",
       "\n",
       "    .dataframe thead th {\n",
       "        text-align: right;\n",
       "    }\n",
       "</style>\n",
       "<table border=\"1\" class=\"dataframe\">\n",
       "  <thead>\n",
       "    <tr style=\"text-align: right;\">\n",
       "      <th></th>\n",
       "      <th>amino_acid</th>\n",
       "      <th>codon</th>\n",
       "      <th>frequency</th>\n",
       "    </tr>\n",
       "  </thead>\n",
       "  <tbody>\n",
       "    <tr>\n",
       "      <th>64</th>\n",
       "      <td>V</td>\n",
       "      <td>GTG</td>\n",
       "      <td>0.257938</td>\n",
       "    </tr>\n",
       "    <tr>\n",
       "      <th>65</th>\n",
       "      <td>V</td>\n",
       "      <td>GTT</td>\n",
       "      <td>0.287079</td>\n",
       "    </tr>\n",
       "    <tr>\n",
       "      <th>66</th>\n",
       "      <td>W</td>\n",
       "      <td>TGG</td>\n",
       "      <td>1.000000</td>\n",
       "    </tr>\n",
       "    <tr>\n",
       "      <th>67</th>\n",
       "      <td>Y</td>\n",
       "      <td>TAC</td>\n",
       "      <td>0.347468</td>\n",
       "    </tr>\n",
       "    <tr>\n",
       "      <th>68</th>\n",
       "      <td>Y</td>\n",
       "      <td>TAT</td>\n",
       "      <td>0.652532</td>\n",
       "    </tr>\n",
       "  </tbody>\n",
       "</table>\n",
       "</div>"
      ],
      "text/plain": [
       "   amino_acid codon  frequency\n",
       "64          V   GTG   0.257938\n",
       "65          V   GTT   0.287079\n",
       "66          W   TGG   1.000000\n",
       "67          Y   TAC   0.347468\n",
       "68          Y   TAT   0.652532"
      ]
     },
     "execution_count": 19,
     "metadata": {},
     "output_type": "execute_result"
    }
   ],
   "source": [
    "cu_table = pd.read_csv('train_codon_usage.tsv', sep='\\t')\n",
    "cu_table.tail(5)"
   ]
  },
  {
   "cell_type": "code",
   "execution_count": 20,
   "id": "employed-technology",
   "metadata": {},
   "outputs": [],
   "source": [
    "def get_most_common_codons(protein, codon_usage_table):\n",
    "    '''Return a DNA sequence using the most frequent codons.'''\n",
    "    mlaa = (codon_usage_table\n",
    "            .sort_values(by='frequency', ascending=False)\n",
    "            .drop_duplicates(subset=['amino_acid'])\n",
    "           )\n",
    "    dna = ''\n",
    "    for aa in protein:\n",
    "        dna += mlaa.query(f'amino_acid == \"{aa}\"').codon.values[0]\n",
    "    return dna\n",
    "\n",
    "assert get_most_common_codons('YWY', cu_table) == 'TATTGGTAT'"
   ]
  },
  {
   "cell_type": "code",
   "execution_count": 21,
   "id": "thick-somerset",
   "metadata": {},
   "outputs": [
    {
     "name": "stdout",
     "output_type": "stream",
     "text": [
      "CU fraction bps matching: 0.811\n"
     ]
    }
   ],
   "source": [
    "mle_dna = get_most_common_codons(test_protein, cu_table)\n",
    "fm_cu = fraction_matches(test_dna, mle_dna)\n",
    "print(f'CU fraction bps matching: {fm_cu[\"fraction_matches\"]:.3f}')"
   ]
  },
  {
   "cell_type": "markdown",
   "id": "distinct-external",
   "metadata": {},
   "source": [
    "For this example, the codon usage outperformed our model! \n",
    "\n",
    "What about for a larger test set?"
   ]
  },
  {
   "cell_type": "code",
   "execution_count": 22,
   "id": "unlike-lebanon",
   "metadata": {},
   "outputs": [],
   "source": [
    "TEST_N = min(100, len(test_translations))\n",
    "rnn_fms = np.zeros(TEST_N)\n",
    "cu_fms = np.zeros(TEST_N)\n",
    "for i, test_protein in enumerate(test_translations.keys()):\n",
    "    if i >= TEST_N:\n",
    "        break\n",
    "        \n",
    "    test_dna = test_translations[test_protein]\n",
    "    \n",
    "    # HMM\n",
    "    pred_dna, pred_prob_dna = predict(gru_model, test_protein)\n",
    "    fm_rnn = fraction_matches(test_dna, pred_dna)\n",
    "    rnn_fms[i] = fm_rnn[\"fraction_matches\"]\n",
    "    \n",
    "    # Codon usage\n",
    "    cu_dna = get_most_common_codons(test_protein, cu_table)\n",
    "    fm_cu = fraction_matches(test_dna, cu_dna)\n",
    "    cu_fms[i] = fm_cu[\"fraction_matches\"]"
   ]
  },
  {
   "cell_type": "code",
   "execution_count": 23,
   "id": "indirect-turkish",
   "metadata": {},
   "outputs": [
    {
     "name": "stdout",
     "output_type": "stream",
     "text": [
      "RNN: 0.780, CU: 0.794\n"
     ]
    }
   ],
   "source": [
    "print(f'RNN: {np.mean(rnn_fms):.3f}, CU: {np.mean(cu_fms):.3f}')"
   ]
  },
  {
   "cell_type": "code",
   "execution_count": 24,
   "id": "adaptive-courtesy",
   "metadata": {},
   "outputs": [
    {
     "data": {
      "image/png": "[encoded data removed]",
      "text/plain": [
       "<Figure size 432x288 with 1 Axes>"
      ]
     },
     "metadata": {
      "needs_background": "light"
     },
     "output_type": "display_data"
    }
   ],
   "source": [
    "plt.hist(rnn_fms, 10, facecolor='blue', alpha=0.5, label='RNN')\n",
    "plt.hist(cu_fms, 10, facecolor='orange', alpha=0.5, label='CU')\n",
    "plt.legend()\n",
    "plt.xlabel('Fraction nucleotide matches')\n",
    "plt.ylabel('Counts');"
   ]
  },
  {
   "cell_type": "code",
   "execution_count": 25,
   "id": "biological-flexibility",
   "metadata": {},
   "outputs": [
    {
     "data": {
      "text/plain": [
       "0.9999999913198584"
      ]
     },
     "execution_count": 25,
     "metadata": {},
     "output_type": "execute_result"
    }
   ],
   "source": [
    "_, pval = ttest_rel(rnn_fms, cu_fms, alternative = \"greater\")\n",
    "pval"
   ]
  },
  {
   "cell_type": "markdown",
   "id": "dirty-conversation",
   "metadata": {},
   "source": [
    "The maximum codon usage approach is outperforming our RNN by a statistically significant margin."
   ]
  },
  {
   "cell_type": "markdown",
   "id": "defensive-screen",
   "metadata": {},
   "source": [
    "I guess we need to search for better hyperparameters..."
   ]
  },
  {
   "cell_type": "code",
   "execution_count": null,
   "id": "forward-conversion",
   "metadata": {},
   "outputs": [],
   "source": []
  }
 ],
 "metadata": {
  "kernelspec": {
   "display_name": "Python 3",
   "language": "python",
   "name": "python3"
  },
  "language_info": {
   "codemirror_mode": {
    "name": "ipython",
    "version": 3
   },
   "file_extension": ".py",
   "mimetype": "text/x-python",
   "name": "python",
   "nbconvert_exporter": "python",
   "pygments_lexer": "ipython3",
   "version": "3.8.6"
  }
 },
 "nbformat": 4,
 "nbformat_minor": 5
}
