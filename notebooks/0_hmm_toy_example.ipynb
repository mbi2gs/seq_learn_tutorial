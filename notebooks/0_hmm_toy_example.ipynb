{
 "cells": [
  {
   "cell_type": "code",
   "execution_count": 1,
   "metadata": {},
   "outputs": [],
   "source": [
    "import numpy as np\n",
    "from numpy import log2\n",
    "import pandas as pd\n",
    "from hmmlearn.hmm import MultinomialHMM"
   ]
  },
  {
   "cell_type": "markdown",
   "metadata": {},
   "source": [
    "#### Setting up a toy HMM\n",
    "\n",
    "Inspired by [this lecture](https://www.csb.pitt.edu/ComputationalGenomics/Lectures/Lec5.pdf)\n",
    "from the U of Pittsburg (starting at slide 11).\n",
    "\n",
    "Consider two hidden states (\"H\" for high GC and \"L\" for low GC) which can each \"emit\" the nucleotides A, C, G and T.\n",
    "\n",
    "We are using [\"MultinomialHMM\"](https://hmmlearn.readthedocs.io/en/latest/api.html#hmmlearn.hmm.MultinomialHMM)\n",
    "because the emissions are discrete states.\n",
    "\n",
    "In \"hmmlearn\" speak, **states** are **components** and emmitted **symbols** are **features**.\n",
    "\n",
    "The `emission_prob` matrix maps the likelihood of a particular hidden state (high or low GC) emitting a particular nucleotide. For example, the probability of seeing a \"A\" given an underlying hidden state of \"H\" is 0.2 or 20%.\n",
    "\n",
    "The `initial_probabilities` matrix counts the number of times each state is found at the start of a sequence, then divides those by the total so that they sum to 1. In this model, the initial states are split evenly (50% and 50%). \n",
    "\n",
    "Finally, the `transition_probabilities` is the likelihood of transitioning from one hidden state to another. In this model, for example, the probability of staying in state \"H\" is 0.5 or 50%."
   ]
  },
  {
   "cell_type": "code",
   "execution_count": 2,
   "metadata": {},
   "outputs": [],
   "source": [
    "states = ['H', 'L']\n",
    "nucleotides = ['A', 'C', 'G', 'T']\n",
    "\n",
    "# shape = len(states), len(symbols)\n",
    "emission_p = np.array([[0.2, 0.3, 0.3, 0.2],\n",
    "                       [0.3, 0.2, 0.2, 0.3]]) \n",
    "\n",
    "transition_p = np.array([[0.5, 0.5],\n",
    "                         [0.4, 0.6]])\n",
    "initial_p = np.array([0.5, 0.5])"
   ]
  },
  {
   "cell_type": "markdown",
   "metadata": {},
   "source": [
    "`assert` statements are little tests to make sure that things are working the way we expect. They are *very* helpful for catching silly bugs."
   ]
  },
  {
   "cell_type": "code",
   "execution_count": 3,
   "metadata": {},
   "outputs": [],
   "source": [
    "# Just making sure the transition matrices were initialized correctly\n",
    "assert transition_p[0, 0] == 0.5 # prob(H|H) = 0.5\n",
    "assert transition_p[1, 0] == 0.4 # prob(H|L) = 0.4\n",
    "assert emission_p[0, 0] == 0.2   # prob(A|H) = 0.2\n",
    "assert emission_p[1, 2] == 0.2   # prob(G|L) = 0.2"
   ]
  },
  {
   "cell_type": "markdown",
   "metadata": {},
   "source": [
    "#### Build model"
   ]
  },
  {
   "cell_type": "code",
   "execution_count": 4,
   "metadata": {},
   "outputs": [],
   "source": [
    "hmm = MultinomialHMM(n_components=len(states), \n",
    "                     verbose=False,  \n",
    "                     init_params='')\n",
    "hmm.transmat_ = transition_p\n",
    "hmm.emissionprob_ = emission_p\n",
    "hmm.startprob_ = initial_p\n",
    "hmm.n_features = len(nucleotides)"
   ]
  },
  {
   "cell_type": "code",
   "execution_count": 5,
   "metadata": {},
   "outputs": [],
   "source": [
    "sample_dna, sample_hid = hmm.sample(n_samples=10, random_state=21)"
   ]
  },
  {
   "cell_type": "code",
   "execution_count": 6,
   "metadata": {},
   "outputs": [
    {
     "data": {
      "text/plain": [
       "(array([1, 0, 0, 2, 2, 3, 0, 3, 3, 1]), array([0, 1, 0, 0, 0, 0, 0, 0, 1, 1]))"
      ]
     },
     "execution_count": 6,
     "metadata": {},
     "output_type": "execute_result"
    }
   ],
   "source": [
    "sample_dna.ravel(), sample_hid.ravel()"
   ]
  },
  {
   "cell_type": "markdown",
   "metadata": {},
   "source": [
    "#### Some helper functions\n",
    "\n",
    "You'll notice that the hmmlearn model works with integers ^^^.\n",
    "\n",
    "The following functions encode sequences into integers, and then decode them back into sequences. We include some more assert statements as little tests to make sure things are working as we expect."
   ]
  },
  {
   "cell_type": "code",
   "execution_count": 7,
   "metadata": {},
   "outputs": [],
   "source": [
    "def encode_seq(symbols, seqtype='dna'):\n",
    "    encdr = nucleotides\n",
    "    if seqtype != 'dna':\n",
    "        encdr = states\n",
    "    outseq = np.array([encdr.index(s) for s in symbols])\n",
    "    return outseq\n",
    "\n",
    "test_hl = 'HHHLLL'\n",
    "test_nuc = 'GGGAAA'\n",
    "assert encode_seq(test_hl, seqtype='states')[0] == states.index(test_hl[0]) and \\\n",
    "       encode_seq(test_hl, seqtype='states')[-1] == states.index(test_hl[-1])\n",
    "assert encode_seq(test_nuc, seqtype='dna')[0] == nucleotides.index(test_nuc[0]) and \\\n",
    "       encode_seq(test_nuc, seqtype='dna')[-1] == nucleotides.index(test_nuc[-1])\n",
    "\n",
    "def decode_seq(num_array, seqtype='dna'):\n",
    "    encdr = nucleotides\n",
    "    if seqtype != 'dna':\n",
    "        encdr = states\n",
    "    outseq = [encdr[s] for s in num_array]\n",
    "    return ''.join(outseq)\n",
    "\n",
    "assert decode_seq(encode_seq(test_nuc)) == test_nuc\n",
    "assert decode_seq(encode_seq(test_hl, seqtype='prot'), seqtype='prot') == test_hl"
   ]
  },
  {
   "cell_type": "code",
   "execution_count": 8,
   "metadata": {},
   "outputs": [
    {
     "data": {
      "text/plain": [
       "('CAAGGTATTC', 'HLHHHHHHLL')"
      ]
     },
     "execution_count": 8,
     "metadata": {},
     "output_type": "execute_result"
    }
   ],
   "source": [
    "decode_seq(sample_dna.reshape(-1), seqtype='dna'), \\\n",
    "decode_seq(sample_hid.reshape(-1), seqtype='hid')"
   ]
  },
  {
   "cell_type": "markdown",
   "metadata": {},
   "source": [
    "The Viterbi algorithm returns the most probable sequence of hidden states (H or L) to explain the observations (DNA)."
   ]
  },
  {
   "cell_type": "code",
   "execution_count": 9,
   "metadata": {},
   "outputs": [
    {
     "data": {
      "text/plain": [
       "array([2, 2, 1, 0, 1, 3, 2, 0, 0])"
      ]
     },
     "execution_count": 9,
     "metadata": {},
     "output_type": "execute_result"
    }
   ],
   "source": [
    "observed_dna = 'GGCACTGAA'\n",
    "obs_dna_e = encode_seq(observed_dna, seqtype='dna')\n",
    "obs_dna_e.ravel()"
   ]
  },
  {
   "cell_type": "code",
   "execution_count": 10,
   "metadata": {},
   "outputs": [
    {
     "data": {
      "text/plain": [
       "'HHHLLLLLL'"
      ]
     },
     "execution_count": 10,
     "metadata": {},
     "output_type": "execute_result"
    }
   ],
   "source": [
    "mle_hid_indices = hmm.predict(obs_dna_e.reshape(-1, 1))\n",
    "mle_hid = decode_seq(mle_hid_indices, seqtype='hid')\n",
    "mle_hid"
   ]
  },
  {
   "cell_type": "markdown",
   "metadata": {},
   "source": [
    "#### How Viterbi works\n",
    "\n",
    "Assume that the probability at position *pos* only depends on the emitted symbol and the hidden state at position *pos-1*.\n",
    "\n",
    "Start by calculating the probability of each hidden state given the first symbol \"G\" at position 0 and--simultaneously--the probability of starting in either hidden state.\n",
    "\n",
    "Determine the most likely hidden state at position 0 by comparing the two probabilities.\n",
    "\n",
    "Next, determine the probability of each hidden state at position 1, given the maximum probability of each hidden state previously calculated, and--simultaneously--emitting the second symbol \"G\".\n",
    "\n",
    "Determine the most likely hidden state at position 1 by comparing the two probabilities.\n"
   ]
  },
  {
   "cell_type": "code",
   "execution_count": 11,
   "metadata": {},
   "outputs": [],
   "source": [
    "# A function to visually track our progress\n",
    "# through Viterbi\n",
    "def print_cum_prob(cprob, dna):\n",
    "    print('DNA\\tp(H)\\tp(L)')\n",
    "    for i in range(len(dna)):\n",
    "        print(f'{dna[i]}\\t{cprob[0, i]:0.3f}\\t{cprob[1, i]:0.3f}')"
   ]
  },
  {
   "cell_type": "code",
   "execution_count": 12,
   "metadata": {},
   "outputs": [
    {
     "name": "stdout",
     "output_type": "stream",
     "text": [
      "DNA\tp(H)\tp(L)\n",
      "G\t0.150\t0.100\n",
      "G\t0.000\t0.000\n",
      "C\t0.000\t0.000\n",
      "A\t0.000\t0.000\n",
      "C\t0.000\t0.000\n",
      "T\t0.000\t0.000\n",
      "G\t0.000\t0.000\n",
      "A\t0.000\t0.000\n",
      "A\t0.000\t0.000\n"
     ]
    }
   ],
   "source": [
    "cum_prob = np.zeros((len(states), len(observed_dna)))\n",
    "gi = nucleotides.index('G')\n",
    "cum_prob[0, 0] = emission_p[0, gi] * initial_p[0]\n",
    "cum_prob[1, 0] = emission_p[1, gi] * initial_p[1]\n",
    "\n",
    "print_cum_prob(cum_prob, observed_dna)"
   ]
  },
  {
   "cell_type": "code",
   "execution_count": 13,
   "metadata": {},
   "outputs": [
    {
     "name": "stdout",
     "output_type": "stream",
     "text": [
      "DNA\tp(H)\tp(L)\n",
      "G\t0.150\t0.100\n",
      "G\t0.022\t0.015\n",
      "C\t0.000\t0.000\n",
      "A\t0.000\t0.000\n",
      "C\t0.000\t0.000\n",
      "T\t0.000\t0.000\n",
      "G\t0.000\t0.000\n",
      "A\t0.000\t0.000\n",
      "A\t0.000\t0.000\n"
     ]
    }
   ],
   "source": [
    "pos = 1\n",
    "pi = nucleotides.index(observed_dna[pos])\n",
    "cum_prob[0, pos] = emission_p[0, pi] * max(cum_prob[0, pos-1]*transition_p[0, 0], cum_prob[1, pos-1]*transition_p[1, 0])\n",
    "cum_prob[1, pos] = emission_p[1, pi] * max(cum_prob[0, pos-1]*transition_p[0, 1], cum_prob[1, pos-1]*transition_p[1, 1])\n",
    "\n",
    "print_cum_prob(cum_prob, observed_dna)"
   ]
  },
  {
   "cell_type": "markdown",
   "metadata": {},
   "source": [
    "`max(cum_prob[0, pos-1]*transition_p[0, 0], cum_prob[1, pos-1]*transition_p[1, 0])`\n",
    "\n",
    "^ This is where things can start to seem confusing, but they are intuitive if you take a moment to understand it\n",
    "\n",
    "For both H and L, we are selecting the most likely of two possibilities (e.g. the max() operation).\n",
    "For H, the two possibilities are an H at the previous step transitioning to an H at this step \n",
    "\n",
    "OR \n",
    "\n",
    "an L at the previous step transitioning to an H at this step.\n",
    "\n",
    "Similarly for L.\n",
    "\n",
    "We've already calculated the probability of an H or an L at the previous step, so we multiply those values with the transition probabilities."
   ]
  },
  {
   "cell_type": "code",
   "execution_count": 14,
   "metadata": {},
   "outputs": [
    {
     "name": "stdout",
     "output_type": "stream",
     "text": [
      "DNA\tp(H)\tp(L)\n",
      "G\t0.150\t0.100\n",
      "G\t0.022\t0.015\n",
      "C\t0.003\t0.002\n",
      "A\t0.000\t0.000\n",
      "C\t0.000\t0.000\n",
      "T\t0.000\t0.000\n",
      "G\t0.000\t0.000\n",
      "A\t0.000\t0.000\n",
      "A\t0.000\t0.000\n"
     ]
    }
   ],
   "source": [
    "pos = 2\n",
    "pi = nucleotides.index(observed_dna[pos])\n",
    "cum_prob[0, pos] = emission_p[0, pi] * max(cum_prob[0, pos-1]*transition_p[0, 0], cum_prob[1, pos-1]*transition_p[1, 0])\n",
    "cum_prob[1, pos] = emission_p[1, pi] * max(cum_prob[0, pos-1]*transition_p[0, 1], cum_prob[1, pos-1]*transition_p[1, 1])\n",
    "\n",
    "print_cum_prob(cum_prob, observed_dna)"
   ]
  },
  {
   "cell_type": "markdown",
   "metadata": {},
   "source": [
    "And so on ...\n",
    "\n",
    "The only additional detail is that we generally operate using logarithms instead of the raw probabilities to avoid underflow (notice how the probabilities are getting progressively smaller as the algorithm progresses^^^). Recall that using logs, multiplications become summations.\n",
    "\n",
    "The whole thing generalizes to:"
   ]
  },
  {
   "cell_type": "code",
   "execution_count": 15,
   "metadata": {},
   "outputs": [
    {
     "name": "stdout",
     "output_type": "stream",
     "text": [
      "Cumulative log probabilities and MLE\n",
      "DNA\tlog_p(H) log_p(L) MLE\n",
      "G\t-2.74\t -3.32\t  H\n",
      "G\t-5.47\t -6.06\t  H\n",
      "C\t-8.21\t -8.80\t  H\n",
      "A\t-11.53\t -10.95\t  L\n",
      "C\t-14.01\t -14.01\t  L\n",
      "T\t-17.33\t -16.48\t  L\n",
      "G\t-19.54\t -19.54\t  L\n",
      "A\t-22.86\t -22.01\t  L\n",
      "A\t-25.66\t -24.49\t  L\n"
     ]
    }
   ],
   "source": [
    "# Viterbi\n",
    "# Initialization\n",
    "pos = 0\n",
    "pi = nucleotides.index(observed_dna[pos])\n",
    "cum_prob[0, pos] = log2(emission_p[0, pi]) + log2(initial_p[0])\n",
    "cum_prob[1, pos] = log2(emission_p[1, pi]) + log2(initial_p[1])\n",
    "most_likely_hidden_index = np.argmax([cum_prob[0, pos], cum_prob[1, pos]])\n",
    "most_likely_hidden = states[most_likely_hidden_index]\n",
    "mle = [most_likely_hidden]\n",
    "\n",
    "# Continuation\n",
    "for pos in range(1, len(observed_dna)):\n",
    "    pi = nucleotides.index(observed_dna[pos])\n",
    "    prob_H = max(cum_prob[0, pos-1] + log2(transition_p[0, 0]), cum_prob[1, pos-1] + log2(transition_p[1, 0]))\n",
    "    prob_L = max(cum_prob[0, pos-1] + log2(transition_p[0, 1]), cum_prob[1, pos-1] + log2(transition_p[1, 1]))\n",
    "    cum_prob[0, pos] = log2(emission_p[0, pi]) + prob_H\n",
    "    cum_prob[1, pos] = log2(emission_p[1, pi]) + prob_L\n",
    "    \n",
    "    most_likely_hidden_index = np.argmax([cum_prob[0, pos], cum_prob[1, pos]])\n",
    "    most_likely_hidden = states[most_likely_hidden_index]\n",
    "    if cum_prob[0, pos] == cum_prob[1, pos]:\n",
    "        # use hidden state estimate as tie breaker\n",
    "        most_likely_hidden_index = np.argmax([prob_H, prob_L])\n",
    "        most_likely_hidden = states[most_likely_hidden_index]\n",
    "    mle.append(most_likely_hidden)\n",
    "\n",
    "print('Cumulative log probabilities and MLE')\n",
    "print('DNA\\tlog_p(H) log_p(L) MLE')\n",
    "for i in range(cum_prob.shape[1]):\n",
    "    print(f'{observed_dna[i]}\\t{cum_prob[0, i]:.2f}\\t {cum_prob[1, i]:.2f}\\t  {mle[i]}')"
   ]
  },
  {
   "cell_type": "markdown",
   "metadata": {},
   "source": [
    "Thus, the most likely sequence of hidden states given the model parameters, is HHHLLLLLL. "
   ]
  },
  {
   "cell_type": "markdown",
   "metadata": {},
   "source": [
    "#### Sample training data for RNN"
   ]
  },
  {
   "cell_type": "markdown",
   "metadata": {},
   "source": [
    "As a final step, we use the model to generate 100 training sequences of length 500. These training sequences include both randomly generated DNA and its matching hidden states. These will be used for training a recurrent neural network later in notebook 2."
   ]
  },
  {
   "cell_type": "code",
   "execution_count": 16,
   "metadata": {},
   "outputs": [],
   "source": [
    "N = 100\n",
    "L = 500\n",
    "outfile = 'rnn_toy_training.tsv'\n",
    "with open(outfile, 'w') as out:\n",
    "    out.write('dna\\thidden_state\\n')\n",
    "    for i in range(N):\n",
    "        sample_dna, sample_hid = hmm.sample(n_samples=L, random_state=i)\n",
    "        dna = decode_seq(sample_dna.reshape(-1), seqtype='dna')\n",
    "        hid = decode_seq(sample_hid.reshape(-1), seqtype='hid')\n",
    "        out.write(f'{dna}\\t{hid}\\n')"
   ]
  }
 ],
 "metadata": {
  "kernelspec": {
   "display_name": "Python 3",
   "language": "python",
   "name": "python3"
  },
  "language_info": {
   "codemirror_mode": {
    "name": "ipython",
    "version": 3
   },
   "file_extension": ".py",
   "mimetype": "text/x-python",
   "name": "python",
   "nbconvert_exporter": "python",
   "pygments_lexer": "ipython3",
   "version": "3.8.6"
  }
 },
 "nbformat": 4,
 "nbformat_minor": 4
}
