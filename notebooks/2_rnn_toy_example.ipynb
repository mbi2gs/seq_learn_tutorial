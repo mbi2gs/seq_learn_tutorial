{
 "cells": [
  {
   "cell_type": "code",
   "execution_count": null,
   "id": "aerial-reservation",
   "metadata": {},
   "outputs": [],
   "source": [
    "# Use english prose because it will be easier to see whether the model is learning or not"
   ]
  }
 ],
 "metadata": {
  "kernelspec": {
   "display_name": "Python 3",
   "language": "python",
   "name": "python3"
  },
  "language_info": {
   "codemirror_mode": {
    "name": "ipython",
    "version": 3
   },
   "file_extension": ".py",
   "mimetype": "text/x-python",
   "name": "python",
   "nbconvert_exporter": "python",
   "pygments_lexer": "ipython3",
   "version": "3.8.6"
  }
 },
 "nbformat": 4,
 "nbformat_minor": 5
}
