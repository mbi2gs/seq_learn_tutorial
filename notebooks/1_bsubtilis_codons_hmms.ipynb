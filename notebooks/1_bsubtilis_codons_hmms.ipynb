{
 "cells": [
  {
   "cell_type": "code",
   "execution_count": 1,
   "metadata": {},
   "outputs": [],
   "source": [
    "import urllib.request\n",
    "import gzip\n",
    "import shutil\n",
    "import os\n",
    "\n",
    "import numpy as np\n",
    "import pandas as pd\n",
    "from hmmlearn.hmm import MultinomialHMM\n",
    "from Bio import SeqIO\n",
    "from Bio.Seq import Seq\n",
    "from Bio.SeqFeature import SeqFeature, FeatureLocation"
   ]
  },
  {
   "cell_type": "code",
   "execution_count": 2,
   "metadata": {},
   "outputs": [
    {
     "name": "stdout",
     "output_type": "stream",
     "text": [
      "Beginning file download with urllib2...\n"
     ]
    }
   ],
   "source": [
    "url = 'https://ftp.ncbi.nlm.nih.gov/genomes/all/GCF/000/009/045/GCF_000009045.1_ASM904v1/GCF_000009045.1_ASM904v1_genomic.gbff.gz'\n",
    "gz_fn = 'GCF_000009045.1_ASM904v1_genomic.gbff.gz'\n",
    "gbk_fn = gz_fn.replace('.gbff.gz', '.gbk')\n",
    "if not os.path.isfile(gz_fn):\n",
    "    print('Beginning file download with urllib2...')\n",
    "    urllib.request.urlretrieve(url, gz_fn)\n",
    "\n",
    "if not os.path.isfile(gbk_fn):\n",
    "    with gzip.open(gz_fn, 'rb') as f_in, open(gbk_fn, 'wb') as f_out:\n",
    "            shutil.copyfileobj(f_in, f_out)"
   ]
  },
  {
   "cell_type": "markdown",
   "metadata": {},
   "source": [
    "Helper functions"
   ]
  },
  {
   "cell_type": "code",
   "execution_count": 3,
   "metadata": {},
   "outputs": [],
   "source": [
    "def get_list_of_codons(dna_seq):\n",
    "    codons = []\n",
    "    for i in range(0, len(dna_seq), 3):\n",
    "        codons.append(dna_seq[i:i+3])\n",
    "    return codons\n",
    "assert get_list_of_codons('ATGCCCGGGAAATTTTAG') == ['ATG', 'CCC', 'GGG', 'AAA', 'TTT', 'TAG']\n",
    "\n",
    "def check_len_and_ambiguity(seq):\n",
    "    assert isinstance(seq, str)\n",
    "    ambig_nucs = ['R', 'Y', 'S', 'W', 'K', 'M', 'B', 'D', 'H', 'V', 'N']\n",
    "    unambiguous = not any([anuc in seq for anuc in ambig_nucs])\n",
    "    multiple_3 = len(seq) % 3 == 0\n",
    "    return unambiguous and multiple_3\n",
    "assert check_len_and_ambiguity('ATGACCTAG')\n",
    "assert not check_len_and_ambiguity('ATGACCTA')\n",
    "assert not check_len_and_ambiguity('ATGACCTAY')\n",
    "assert not check_len_and_ambiguity('ATGACCAY')"
   ]
  },
  {
   "cell_type": "code",
   "execution_count": 4,
   "metadata": {},
   "outputs": [
    {
     "name": "stdout",
     "output_type": "stream",
     "text": [
      "MENILDLWNQALAQIEKKLSKPSFETWMKSTKAHSLQGDTLTITAPNEFARDWLESRYLHLIADTIYELTGEELSIKFVIPQNQDVEDFMPKPQVKKAVKEDTSDFPQNMLNPKYTFDTFVIGSGNRFAHAASLAVAEAPAKAYNPLFIYGGVGLGKTHLMHAIGHYVIDHNPSAKVVYLSSEKFTNEFINSIRDNKAVDFRNRYRNVDVLLIDDIQFLAGKEQTQEEFFHTFNTLHEESKQIVISSDRPPKEIPTLEDRLRSRFEWGLITDITPPDLETRIAILRKKAKAEGLDIPNEVMLYIANQIDSNIRELEGALIRVVAYSSLINKDINADLAAEALKDIIPSSKPKVITIKEIQRVVGQQFNIKLEDFKAKKRTKSVAFPRQIAMYLSREMTDSSLPKIGEEFGGRDHTTVIHAHEKISKLLADDEQLQQHVKEIKEQLK*\n",
      "MKFTIQKDRLVESVQDVLKAVSSRTTIPILTGIKIVASDDGVSFTGSDSDISIESFIPKEEGDKEIVTIEQPGSIVLQARFFSEIVKKLPMATVEIEVQNQYLTIIRSGKAEFNLNGLDADEYPHLPQIEEHHAIQIPTDLLKNLIRQTVFAVSTSETRPILTGVNWKVEQSELLCTATDSHRLALRKAKLDIPEDRSYNVVIPGKSLTELSKILDDNQELVDIVITETQVLFKAKNVLFFSRLLDGNYPDTTSLIPQDSKTEIIVNTKEFLQAIDRASLLAREGRNNVVKLSAKPAESIEISSNSPEIGKVVEAIVADQIEGEELNISFSPKYMLDALKVLEGAEIRVSFTGAMRPFLIRTPNDETIVQLILPVRTY*\n",
      "MANPISIDTEMITLGQFLKLADVIQSGGMAKWFLSEHEVLVNDEPDNRRGRKLYVGDVVEIEGFGSFQVVN*\n",
      "MYIQNLELTSYRNYDHAELQFENKVNVIIGENAQGKTNLMEAIYVLSMAKSHRTSNDKELIRWDKDYAKIEGRVMKQNGAIPMQLVISKKGKKGKVNHIEQQKLSQYVGALNTIMFAPEDLNLVKGSPQVRRRFLDMEIGQVSPVYLHDLSLYQKILSQRNHFLKQLQTRKQTDRTMLDVLTDQLVEVAAKVVVKRLQFTAQLEKWAQPIHAGISRGLEELTLKYHTALDVSDPLDLSKIGDSYQEAFSKLREKEIERGVTLSGPHRDDVLFYVNGRDVQTYGSQGQQRTTALSLKLAEIDLIHEEIGEYPILLLDDVLSELDDYRQSHLLHTIQGRVQTFVTTTSVDGIDHETLRQAGMFRVQNGALVK*\n",
      "MYIHLGDDFVVSTRDIVGIFDFKANMSPIVEEFLKKQKHKVVPSVNGTPKSIVVTVQNIYYSPLSSSTLKKRAQFMFEIDS*\n",
      "MEQQQNSYDENQIQVLEGLEAVRKRPGMYIGSTNSKGLHHLVWEIVDNSIDEALAGYCTDINIQIEKDNSITVVDNGRGIPVGIHEKMGRPAVEVIMTVLHAGGKFDGSGYKVSGGLHGVGASVVNALSTELDVTVHRDGKIHRQTYKRGVPVTDLEIIGETDHTGTTTHFVPDPEIFSETTEYDYDLLANRVRELAFLTKGVNITIEDKREGQERKNEYHYEGGIKSYVEYLNRSKEVVHEEPIYIEGEKDGITVEVALQYNDSYTSNIYSFTNNINTYEGGTHEAGFKTGLTRVINDYARKKGLIKENDPNLSGDDVREGLTAIISIKHPDPQFEGQTKTKLGNSEARTITDTLFSTAMETFMLENPDAAKKIVDKGLMAARARMAAKKARELTRRKSALEISNLPGKLADCSSKDPSISELYIVEGDSAGGSAKQGRDRHFQAILPLRGKILNVEKARLDKILSNNEVRSMITALGTGIGEDFNLEKARYHKVVIMTDADVDGAHIRTLLLTFFYRYMRQIIENGYVYIAQPPLYKVQQGKRVEYAYNDKELEELLKTLPQTPKPGLQRYKGLGEMNATQLWETTMDPSSRTLLQVTLEDAMDADETFEMLMGDKVEPRRNFIEANARYVKNLDI*\n",
      "MSEQNTPQVREINISQEMRTSFLDYAMSVIVSRALPDVRDGLKPVHRRILYAMNDLGMTSDKPYKKSARIVGEVIGKYHPHGDSAVYESMVRMAQDFNYRYMLVDGHGNFGSVDGDSAAAMRYTEARMSKISMEILRDITKDTIDYQDNYDGSEREPVVMPSRFPNLLVNGAAGIAVGMATNIPPHQLGEIIDGVLAVSENPDITIPELMEVIPGPDFPTAGQILGRSGIRKAYESGRGSITIRAKAEIEQTSSGKERIIVTELPYQVNKAKLIEKIADLVRDKKIEGITDLRDESDRTGMRIVIEIRRDANANVILNNLYKQTALQTSFGINLLALVDGQPKVLTLKQCLEHYLDHQKVVIRRRTAYELRKAEARAHILEGLRVALDHLDAVISLIRNSQTAEIARTGLIEQFSLTEKQAQAILDMRLQRLTGLEREKIEEEYQSLVKLIAELKDILANEYKVLEIIREELTEIKERFNDERRTEIVTSGLETIEDEDLIERENIVVTLTHNGYVKRLPASTYRSQKRGGKGVQGMGTNEDDFVEHLISTSTHDTILFFSNKGKVYRAKGYEIPEYGRTAKGIPIINLLEVEKGEWINAIIPVTEFNAELYLFFTTKHGVSKRTSLSQFANIRNNGLIALSLREDDELMGVRLTDGTKQIIIGTKNGLLIRFPETDVREMGRTAAGVKGITLTDDDVVVGMEILEEESHVLIVTEKGYGKRTPAEEYRTQSRGGKGLKTAKITENNGQLVAVKATKGEEDLMIITASGVLIRMDINDISITGRVTQGVRLIRMAEEEHVATVALVEKNEEDENEEEQEEV*\n",
      "MTYHEWKDLALFYSVESTQKFLEKVYILNGINDAKKNSFKNSERFIYFLKHAESFYKQAAYSPLEIKPILLFYGMAQLIKACLITRDPHYPSHTSVLAHGVTTRKRKKQNYCFSDDEVKIQRNGLCVHFMKHLFGQSDIVDERYTMKKLLMAIPELSDIFYFQQKERFMTKVEKDKNEIFVPEEVVINYKMSDSRFAEYMSHHYQWSFTKKNEHGLLFEISPQDKEPWTSTSLLFDMEKNQYYIPSQREQFLRLPEMTIHYLILYNVGMIARYETEWWYELLTQHISDDYVLIQQFLLVSEKKFPKYASQFLLHF*\n",
      "MWESKFSKEGLTFDDVLLVPAKSEVLPRDVDLSVELTKTLKLNIPVISAGMDTVTESAMAIAMARQGGLGIIHKNMSIEQQAEQVDKVKRSERGVITNPFFLTPDHQVFDAEHLMGKYRISGVPIVNNEEDQKLVGIITNRDLRFISDYSMKISDVMTKEELVTASVGTTLDEAEKILQKHKIEKLPLVDDQNKLKGLITIKDIEKVIEFPNSSKDIHGRLIVGAAVGVTGDTMTRVKKLVEANVDVIVIDTAHGHSQGVLNTVTKIRETYPELNIIAGNVATAEATRALIEAGADVVKVGIGPGSICTTRVVAGVGVPQITAIYDCATEARKHGKTIIADGGIKFSGDITKALAAGGHAVMLGSLLAGTSESPGETEIYQGRRFKVYRGMGSVAAMEKGSKDRYFQEENKKFVPEGIEGRTPYKGPVEETVYQLVGGLRSGMGYCGSKDLRALREEAQFIRMTGAGLRESHPHDVQITKESPNYTIS*\n",
      "MNIKKCKQLLMSLVVLTLAVTCLAPMSKAKAASDPIDINASAAIMIEASSGKILYSKNADKRLPIASMTKMMTEYLLLEAIDQGKVKWDQTYTPDDYVYEISQDNSLSNVPLRKDGKYTVKELYQATAIYSANAAAIAIAEIVAGSETKFVEKMNAKAKELGLTDYKFVNATGLENKDLHGHQPEGTSVNEESEVSAKDMAVLADHLITDYPEILETSSIAKTKFREGTDDEMDMPNWNFMLKGLVSEYKKATVDGLKTGSTDSAGSCFTGTAERNGMRVITVVLNAKGNLHTGRFDETKKMFDYAFDNFSMKEIYAEGDQVKGHKTISVDKGKEKEVGIVTNKAFSLPVKNGEEKNYKAKVTLNKDNLTAPVKKGTKVGKLTAEYTGDEKDYGFLNSDLAGVDLVTKENVEKANWFVLTMRSIGGFFAGIWGSIVDTVTGWF*\n",
      "MAQTGTERVKRGMAEMQKGGVIMDVINAEQAKIAEEAGAVAVMALERVPADIRAAGGVARMADPTIVEEVMNAVSIPVMAKARIGHIVEARVLEAMGVDYIDESEVLTPADEEFHLNKNEYTVPFVCGCRDLGEATRRIAEGASMLRTKGEPGTGNIVEAVRHMRKVNAQVRKVVAMSEDELMTEAKNLGAPYELLLQIKKDGKLPVVNFAAGGVATPADAALMMQLGADGVFVGSGIFKSDNPAKFAKAIVEATTHFTDYKLIAELSKELGTAMKGIEISNLLPEQRMQERGW*\n"
     ]
    }
   ],
   "source": [
    "u_aas = set()\n",
    "u_codons = set()\n",
    "all_codons = []\n",
    "initial_states = []\n",
    "emissions = {}\n",
    "for record in SeqIO.parse(gbk_fn, \"genbank\"):\n",
    "    for feature in record.features:\n",
    "        if feature.type == 'CDS' and \\\n",
    "           'translation' in feature.qualifiers and \\\n",
    "           check_len_and_ambiguity(str(record.seq)):\n",
    "            protein = feature.qualifiers['translation'][0] + '*'\n",
    "            print(protein)\n",
    "            aas = {aa for aa in protein}\n",
    "            codon = get_list_of_codons(str(feature.extract(record.seq)))\n",
    "            if len(protein) == len(codon):\n",
    "                all_codons.append(codon)\n",
    "                initial_states.append(codon[0])\n",
    "                u_aas = u_aas.union(aas)\n",
    "                u_codons = u_codons.union(set(codon))\n",
    "                for i, cdn in enumerate(codon):\n",
    "                    emissions[cdn] = protein[i]\n",
    "        if len(initial_states) > 10:\n",
    "            break\n",
    "lu_aas = list(u_aas)\n",
    "lu_codons = list(u_codons)"
   ]
  },
  {
   "cell_type": "code",
   "execution_count": 5,
   "metadata": {},
   "outputs": [
    {
     "data": {
      "text/plain": [
       "['GTC',\n",
       " 'TTC',\n",
       " 'AAA',\n",
       " 'GCA',\n",
       " 'CCG',\n",
       " 'ATC',\n",
       " 'ATA',\n",
       " 'CGT',\n",
       " 'TAG',\n",
       " 'TAT',\n",
       " 'TGC',\n",
       " 'GAT',\n",
       " 'TCC',\n",
       " 'TAC',\n",
       " 'CAA',\n",
       " 'CGC',\n",
       " 'TCA',\n",
       " 'TAA',\n",
       " 'AAT',\n",
       " 'GTT',\n",
       " 'AGC',\n",
       " 'CTT',\n",
       " 'CTC',\n",
       " 'TGG',\n",
       " 'CTA',\n",
       " 'GGA',\n",
       " 'TCT',\n",
       " 'TGT',\n",
       " 'TTT',\n",
       " 'CCA',\n",
       " 'CAT',\n",
       " 'AGT',\n",
       " 'ACA',\n",
       " 'AAC',\n",
       " 'CCC',\n",
       " 'GGG',\n",
       " 'AGG',\n",
       " 'CAG',\n",
       " 'TCG',\n",
       " 'CGA',\n",
       " 'GTG',\n",
       " 'CCT',\n",
       " 'TGA',\n",
       " 'GAG',\n",
       " 'ACT',\n",
       " 'CTG',\n",
       " 'ATT',\n",
       " 'TTG',\n",
       " 'CGG',\n",
       " 'GCT',\n",
       " 'GAC',\n",
       " 'GGC',\n",
       " 'TTA',\n",
       " 'ATG',\n",
       " 'ACG',\n",
       " 'GGT',\n",
       " 'AAG',\n",
       " 'ACC',\n",
       " 'CAC',\n",
       " 'GTA',\n",
       " 'GCG',\n",
       " 'AGA',\n",
       " 'GAA',\n",
       " 'GCC']"
      ]
     },
     "execution_count": 5,
     "metadata": {},
     "output_type": "execute_result"
    }
   ],
   "source": [
    "lu_codons"
   ]
  },
  {
   "cell_type": "code",
   "execution_count": 6,
   "metadata": {},
   "outputs": [
    {
     "data": {
      "text/plain": [
       "('K', 'M')"
      ]
     },
     "execution_count": 6,
     "metadata": {},
     "output_type": "execute_result"
    }
   ],
   "source": [
    "emissions['AAA'], emissions['ATG']"
   ]
  },
  {
   "cell_type": "code",
   "execution_count": 7,
   "metadata": {},
   "outputs": [],
   "source": [
    "def encode_seq(seq_obj, seqtype='dna'):\n",
    "    encdr = lu_codons\n",
    "    symbols = get_list_of_codons(seq_obj)\n",
    "    if seqtype != 'dna':\n",
    "        encdr = lu_aas\n",
    "        symbols = [c for c in seq_obj]\n",
    "    outseq = np.array([encdr.index(s) for s in symbols])\n",
    "    return outseq\n",
    "\n",
    "test_aa = 'MENILD'\n",
    "test_nuc = 'AAAAAAATAAGATAG'\n",
    "assert encode_seq(test_aa, seqtype='prot')[0] == lu_aas.index(test_aa[0]) and \\\n",
    "       encode_seq(test_aa, seqtype='prot')[-1] == lu_aas.index(test_aa[-1])\n",
    "assert encode_seq(test_nuc, seqtype='dna')[0] == lu_codons.index(test_nuc[0:3]) and \\\n",
    "       encode_seq(test_nuc, seqtype='dna')[-1] == lu_codons.index(test_nuc[-3:])\n",
    "\n",
    "def decode_seq(num_array, seqtype='dna'):\n",
    "    encdr = lu_codons\n",
    "    if seqtype != 'dna':\n",
    "        encdr = lu_aas\n",
    "    outseq = [encdr[s] for s in num_array]\n",
    "    return ''.join(outseq)\n",
    "\n",
    "assert decode_seq(encode_seq(test_nuc)) == test_nuc\n",
    "assert decode_seq(encode_seq(test_aa, seqtype='prot'), seqtype='prot') == test_aa"
   ]
  },
  {
   "cell_type": "code",
   "execution_count": 8,
   "metadata": {},
   "outputs": [],
   "source": [
    "emission_prob = np.zeros((len(lu_codons), len(lu_aas)))\n",
    "for i, codon in enumerate(lu_codons):\n",
    "    aa = emissions[codon]\n",
    "    j = lu_aas.index(aa)\n",
    "    emission_prob[i, j] = 1"
   ]
  },
  {
   "cell_type": "code",
   "execution_count": 9,
   "metadata": {},
   "outputs": [],
   "source": [
    "initial_probabilities = {k:0 for k in lu_codons}\n",
    "for i in initial_states:\n",
    "    initial_probabilities[i] += 1\n",
    "for k in initial_probabilities.keys():\n",
    "    initial_probabilities[k] = initial_probabilities[k] / len(initial_states)\n",
    "initial_probs_np = np.array([initial_probabilities[x] for x in lu_codons])"
   ]
  },
  {
   "cell_type": "code",
   "execution_count": 10,
   "metadata": {},
   "outputs": [
    {
     "data": {
      "text/html": [
       "<div>\n",
       "<style scoped>\n",
       "    .dataframe tbody tr th:only-of-type {\n",
       "        vertical-align: middle;\n",
       "    }\n",
       "\n",
       "    .dataframe tbody tr th {\n",
       "        vertical-align: top;\n",
       "    }\n",
       "\n",
       "    .dataframe thead th {\n",
       "        text-align: right;\n",
       "    }\n",
       "</style>\n",
       "<table border=\"1\" class=\"dataframe\">\n",
       "  <thead>\n",
       "    <tr style=\"text-align: right;\">\n",
       "      <th></th>\n",
       "      <th>GTC</th>\n",
       "      <th>TTC</th>\n",
       "      <th>AAA</th>\n",
       "      <th>GCA</th>\n",
       "      <th>CCG</th>\n",
       "      <th>ATC</th>\n",
       "      <th>ATA</th>\n",
       "      <th>CGT</th>\n",
       "      <th>TAG</th>\n",
       "      <th>TAT</th>\n",
       "      <th>...</th>\n",
       "      <th>ACG</th>\n",
       "      <th>GGT</th>\n",
       "      <th>AAG</th>\n",
       "      <th>ACC</th>\n",
       "      <th>CAC</th>\n",
       "      <th>GTA</th>\n",
       "      <th>GCG</th>\n",
       "      <th>AGA</th>\n",
       "      <th>GAA</th>\n",
       "      <th>GCC</th>\n",
       "    </tr>\n",
       "  </thead>\n",
       "  <tbody>\n",
       "    <tr>\n",
       "      <th>GTC</th>\n",
       "      <td>0.023256</td>\n",
       "      <td>0.007752</td>\n",
       "      <td>0.054264</td>\n",
       "      <td>0.007752</td>\n",
       "      <td>0.015504</td>\n",
       "      <td>0.062016</td>\n",
       "      <td>0.007752</td>\n",
       "      <td>0.007752</td>\n",
       "      <td>0.007752</td>\n",
       "      <td>0.007752</td>\n",
       "      <td>...</td>\n",
       "      <td>0.031008</td>\n",
       "      <td>0.015504</td>\n",
       "      <td>0.007752</td>\n",
       "      <td>0.007752</td>\n",
       "      <td>0.007752</td>\n",
       "      <td>0.023256</td>\n",
       "      <td>0.007752</td>\n",
       "      <td>0.023256</td>\n",
       "      <td>0.007752</td>\n",
       "      <td>0.007752</td>\n",
       "    </tr>\n",
       "    <tr>\n",
       "      <th>TTC</th>\n",
       "      <td>0.008696</td>\n",
       "      <td>0.034783</td>\n",
       "      <td>0.026087</td>\n",
       "      <td>0.008696</td>\n",
       "      <td>0.034783</td>\n",
       "      <td>0.017391</td>\n",
       "      <td>0.017391</td>\n",
       "      <td>0.017391</td>\n",
       "      <td>0.008696</td>\n",
       "      <td>0.017391</td>\n",
       "      <td>...</td>\n",
       "      <td>0.017391</td>\n",
       "      <td>0.017391</td>\n",
       "      <td>0.008696</td>\n",
       "      <td>0.008696</td>\n",
       "      <td>0.008696</td>\n",
       "      <td>0.008696</td>\n",
       "      <td>0.017391</td>\n",
       "      <td>0.017391</td>\n",
       "      <td>0.017391</td>\n",
       "      <td>0.008696</td>\n",
       "    </tr>\n",
       "    <tr>\n",
       "      <th>AAA</th>\n",
       "      <td>0.012658</td>\n",
       "      <td>0.015823</td>\n",
       "      <td>0.056962</td>\n",
       "      <td>0.037975</td>\n",
       "      <td>0.022152</td>\n",
       "      <td>0.031646</td>\n",
       "      <td>0.012658</td>\n",
       "      <td>0.012658</td>\n",
       "      <td>0.006329</td>\n",
       "      <td>0.009494</td>\n",
       "      <td>...</td>\n",
       "      <td>0.012658</td>\n",
       "      <td>0.022152</td>\n",
       "      <td>0.022152</td>\n",
       "      <td>0.003165</td>\n",
       "      <td>0.012658</td>\n",
       "      <td>0.015823</td>\n",
       "      <td>0.025316</td>\n",
       "      <td>0.006329</td>\n",
       "      <td>0.069620</td>\n",
       "      <td>0.015823</td>\n",
       "    </tr>\n",
       "    <tr>\n",
       "      <th>GCA</th>\n",
       "      <td>0.006329</td>\n",
       "      <td>0.006329</td>\n",
       "      <td>0.063291</td>\n",
       "      <td>0.012658</td>\n",
       "      <td>0.006329</td>\n",
       "      <td>0.006329</td>\n",
       "      <td>0.006329</td>\n",
       "      <td>0.006329</td>\n",
       "      <td>0.006329</td>\n",
       "      <td>0.012658</td>\n",
       "      <td>...</td>\n",
       "      <td>0.012658</td>\n",
       "      <td>0.012658</td>\n",
       "      <td>0.025316</td>\n",
       "      <td>0.006329</td>\n",
       "      <td>0.006329</td>\n",
       "      <td>0.018987</td>\n",
       "      <td>0.006329</td>\n",
       "      <td>0.031646</td>\n",
       "      <td>0.037975</td>\n",
       "      <td>0.025316</td>\n",
       "    </tr>\n",
       "    <tr>\n",
       "      <th>CCG</th>\n",
       "      <td>0.008850</td>\n",
       "      <td>0.008850</td>\n",
       "      <td>0.035398</td>\n",
       "      <td>0.008850</td>\n",
       "      <td>0.017699</td>\n",
       "      <td>0.008850</td>\n",
       "      <td>0.008850</td>\n",
       "      <td>0.026549</td>\n",
       "      <td>0.008850</td>\n",
       "      <td>0.008850</td>\n",
       "      <td>...</td>\n",
       "      <td>0.008850</td>\n",
       "      <td>0.008850</td>\n",
       "      <td>0.008850</td>\n",
       "      <td>0.017699</td>\n",
       "      <td>0.035398</td>\n",
       "      <td>0.017699</td>\n",
       "      <td>0.008850</td>\n",
       "      <td>0.008850</td>\n",
       "      <td>0.017699</td>\n",
       "      <td>0.008850</td>\n",
       "    </tr>\n",
       "  </tbody>\n",
       "</table>\n",
       "<p>5 rows × 64 columns</p>\n",
       "</div>"
      ],
      "text/plain": [
       "          GTC       TTC       AAA       GCA       CCG       ATC       ATA  \\\n",
       "GTC  0.023256  0.007752  0.054264  0.007752  0.015504  0.062016  0.007752   \n",
       "TTC  0.008696  0.034783  0.026087  0.008696  0.034783  0.017391  0.017391   \n",
       "AAA  0.012658  0.015823  0.056962  0.037975  0.022152  0.031646  0.012658   \n",
       "GCA  0.006329  0.006329  0.063291  0.012658  0.006329  0.006329  0.006329   \n",
       "CCG  0.008850  0.008850  0.035398  0.008850  0.017699  0.008850  0.008850   \n",
       "\n",
       "          CGT       TAG       TAT  ...       ACG       GGT       AAG  \\\n",
       "GTC  0.007752  0.007752  0.007752  ...  0.031008  0.015504  0.007752   \n",
       "TTC  0.017391  0.008696  0.017391  ...  0.017391  0.017391  0.008696   \n",
       "AAA  0.012658  0.006329  0.009494  ...  0.012658  0.022152  0.022152   \n",
       "GCA  0.006329  0.006329  0.012658  ...  0.012658  0.012658  0.025316   \n",
       "CCG  0.026549  0.008850  0.008850  ...  0.008850  0.008850  0.008850   \n",
       "\n",
       "          ACC       CAC       GTA       GCG       AGA       GAA       GCC  \n",
       "GTC  0.007752  0.007752  0.023256  0.007752  0.023256  0.007752  0.007752  \n",
       "TTC  0.008696  0.008696  0.008696  0.017391  0.017391  0.017391  0.008696  \n",
       "AAA  0.003165  0.012658  0.015823  0.025316  0.006329  0.069620  0.015823  \n",
       "GCA  0.006329  0.006329  0.018987  0.006329  0.031646  0.037975  0.025316  \n",
       "CCG  0.017699  0.035398  0.017699  0.008850  0.008850  0.017699  0.008850  \n",
       "\n",
       "[5 rows x 64 columns]"
      ]
     },
     "execution_count": 10,
     "metadata": {},
     "output_type": "execute_result"
    }
   ],
   "source": [
    "transition_counts = np.ones((len(lu_codons), len(lu_codons)))\n",
    "for gene in all_codons:\n",
    "    for i in range(0, len(gene)-1):\n",
    "        codon0 = lu_codons.index(gene[i])\n",
    "        codon1 = lu_codons.index(gene[i+1])\n",
    "        transition_counts[codon0, codon1] += 1\n",
    "transition_totals = transition_counts.sum(axis=1)\n",
    "transition_probs = np.dot(np.diag(1/transition_totals), transition_counts)\n",
    "transition_probs_df = pd.DataFrame(transition_probs, index=lu_codons, columns=lu_codons)\n",
    "transition_probs_df.head()"
   ]
  },
  {
   "cell_type": "markdown",
   "metadata": {},
   "source": [
    "Build model"
   ]
  },
  {
   "cell_type": "code",
   "execution_count": 11,
   "metadata": {},
   "outputs": [],
   "source": [
    "hmm = MultinomialHMM(n_components=len(lu_codons), \n",
    "                     startprob_prior=initial_probs_np, \n",
    "                     transmat_prior=transition_probs, \n",
    "                     verbose=False,  \n",
    "                     init_params='')\n",
    "hmm.transmat_ = transition_probs\n",
    "hmm.emissionprob_ = emission_prob\n",
    "hmm.startprob_ = initial_probs_np\n",
    "hmm.n_features = len(lu_aas)"
   ]
  },
  {
   "cell_type": "code",
   "execution_count": 12,
   "metadata": {},
   "outputs": [],
   "source": [
    "sample_aa, sample_nuc = hmm.sample(n_samples=10, random_state=21)"
   ]
  },
  {
   "cell_type": "code",
   "execution_count": 13,
   "metadata": {},
   "outputs": [
    {
     "data": {
      "text/plain": [
       "('LLDNRPYHLL', 'TTGCTGGATAATCGCCCGTATCATTTATTA')"
      ]
     },
     "execution_count": 13,
     "metadata": {},
     "output_type": "execute_result"
    }
   ],
   "source": [
    "assert emission_prob[sample_nuc[0], sample_aa[0]] == 1\n",
    "decode_seq(sample_aa.reshape(-1), seqtype='prot'), decode_seq(sample_nuc.reshape(-1), seqtype='dna')"
   ]
  },
  {
   "cell_type": "markdown",
   "metadata": {},
   "source": [
    "Testing"
   ]
  },
  {
   "cell_type": "code",
   "execution_count": 15,
   "metadata": {},
   "outputs": [],
   "source": [
    "protein = ''\n",
    "dna = ''\n",
    "for record in SeqIO.parse(gbk_fn, \"genbank\"):\n",
    "    for feature in record.features:\n",
    "        if feature.type == 'CDS' and 'translation' in feature.qualifiers:\n",
    "            protein = Seq(feature.qualifiers['translation'][0] + '*')\n",
    "            dna = feature.extract(record.seq)\n",
    "            break"
   ]
  },
  {
   "cell_type": "code",
   "execution_count": 16,
   "metadata": {},
   "outputs": [
    {
     "data": {
      "text/plain": [
       "Seq('MENILDLWNQALAQIEKKLSKPSFETWMKSTKAHSLQGDTLTITAPNEFARDWL...LK*')"
      ]
     },
     "execution_count": 16,
     "metadata": {},
     "output_type": "execute_result"
    }
   ],
   "source": [
    "protein"
   ]
  },
  {
   "cell_type": "code",
   "execution_count": 17,
   "metadata": {},
   "outputs": [],
   "source": [
    "prot_e = encode_seq(protein, seqtype='prot')\n",
    "# protein, prot_e.reshape(-1, 1)"
   ]
  },
  {
   "cell_type": "code",
   "execution_count": 18,
   "metadata": {},
   "outputs": [],
   "source": [
    "mle_dna_indices = hmm.predict(prot_e.reshape(-1, 1))\n",
    "mle_dna = decode_seq(mle_dna_indices)"
   ]
  },
  {
   "cell_type": "code",
   "execution_count": 19,
   "metadata": {},
   "outputs": [
    {
     "data": {
      "text/plain": [
       "Seq('MENILDLWNQALAQIEKKLSKPSFETWMKSTKAHSLQGDTLTITAPNEFARDWL...LK*')"
      ]
     },
     "execution_count": 19,
     "metadata": {},
     "output_type": "execute_result"
    }
   ],
   "source": [
    "Seq(mle_dna).translate()"
   ]
  },
  {
   "cell_type": "code",
   "execution_count": 22,
   "metadata": {},
   "outputs": [
    {
     "name": "stdout",
     "output_type": "stream",
     "text": [
      "Emissions       M  E  N  I  L  D  L  W  N  Q  A  L  A  Q  I  E  K  K  L  S \n",
      "Real State      ATGGAAAATATATTAGACCTGTGGAACCAAGCCCTTGCTCAAATCGAAAAAAAGTTGAG\n",
      "Predicted State ATGGAAAATATCTTGGATCTGTGGAATCAAGCGCTAGCTCAAATTGAAAAAAAATTATC\n",
      "\n",
      "Emissions        K  P  S  F  E  T  W  M  K  S  T  K  A  H  S  L  Q  G  D  T\n",
      "Real State      CAAACCGAGTTTTGAGACTTGGATGAAGTCAACCAAAGCCCACTCACTGCAAGGCGATA\n",
      "Predicted State AAAACCGAGTTTTGAGACTTGGATGAAGTCAACAAAAGCGCACTCTCTTCAAGGCGATA\n",
      "\n",
      "Emissions         L  T  I  T  A  P  N  E  F  A  R  D  W  L  E  S  R  Y  L  \n",
      "Real State      CATTAACAATCACGGCTCCCAATGAATTTGCCAGAGACTGGCTGGAGTCCAGATACTTG\n",
      "Predicted State CATTAACGATTACAGCTCCCAATGAATTTGCCCGTGACTGGCTGGAGTCCAGATACCTT\n",
      "\n",
      "Emissions       H  L  I  A  D  T  I  Y  E  L  T  G  E  E  L  S  I  K  F  V \n",
      "Real State      CATCTGATTGCAGATACTATATATGAATTAACCGGGGAAGAATTGAGCATTAAGTTTGT\n",
      "Predicted State CATTTAATTGCAGATACAATTTATGAATTAACAGGTGAAGAACTCAGCATTAAATTTGT\n",
      "\n",
      "Emissions        I  P  Q  N  Q  D  V  E  D  F  M  P  K  P  Q  V  K  K  A  V\n",
      "Real State      CATTCCTCAAAATCAAGATGTTGAGGACTTTATGCCGAAACCGCAAGTCAAAAAAGCGG\n",
      "Predicted State CATTCCACAAAATCAAGATGTTGAAGACTTTATGCCGAAACCGCAAGTAAAAAAAGCAG\n",
      "\n",
      "Emissions         K  E  D  T  S  D  F  P  Q  N  M  L  N  P  K  Y  T  F  D  \n",
      "Real State      TCAAAGAAGATACATCTGATTTTCCTCAAAATATGCTCAATCCAAAATATACTTTTGAT\n",
      "Predicted State TAAAAGAAGATACATCAGATTTCCCGCAAAATATGCTCAATCCAAAATACACATTTGAT\n",
      "\n",
      "Emissions       T  F  V  I  G  S  G  N  R  F  A  H  A  A  S  L  A  V  A  E \n",
      "Real State      ACTTTTGTCATCGGATCTGGAAACCGATTTGCACATGCTGCTTCCCTCGCAGTAGCGGA\n",
      "Predicted State ACTTTTGTCATCGGAAGCGGCAACCGATTTGCACATGCTGCTTCTCTTGCTGTTGCTGA\n",
      "\n",
      "Emissions        A  P  A  K  A  Y  N  P  L  F  I  Y  G  G  V  G  L  G  K  T\n",
      "Real State      AGCGCCCGCGAAAGCTTACAACCCTTTATTTATCTATGGGGGCGTCGGCTTAGGGAAAA\n",
      "Predicted State AGCTCCTGCGAAAGCATACAATCCGCTCTTCATATATGGAGGAGTTGGGCTTGGTAAAA\n",
      "\n",
      "Emissions         H  L  M  H  A  I  G  H  Y  V  I  D  H  N  P  S  A  K  V  \n",
      "Real State      CACACTTAATGCATGCGATCGGCCATTATGTAATAGATCATAATCCTTCTGCCAAAGTG\n",
      "Predicted State CACACTTGATGCATGCGATCGGACATTATGTCATTGATCACAACCCTTCCGCGAAAGTT\n",
      "\n",
      "Emissions       V  Y  L  S  S  E  K  F  T  N  E  F  I  N  S  I  R  D  N  K \n",
      "Real State      GTTTATCTGTCTTCTGAGAAATTTACAAACGAATTCATCAACTCTATCCGAGATAATAA\n",
      "Predicted State GTCTACTTGTCCAGTGAAAAATTTACAAACGAATTTATCAACAGTATCCGTGATAATAA\n",
      "\n",
      "Emissions        A  V  D  F  R  N  R  Y  R  N  V  D  V  L  L  I  D  D  I  Q\n",
      "Real State      AGCCGTCGACTTCCGCAATCGCTATCGAAATGTTGATGTGCTTTTGATAGATGATATTC\n",
      "Predicted State AGCAGTTGATTTCCGCAACCGTTACCGCAACGTTGATGTGCTTTTAATTGATGATATTC\n",
      "\n",
      "Emissions         F  L  A  G  K  E  Q  T  Q  E  E  F  F  H  T  F  N  T  L  \n",
      "Real State      AATTTTTAGCGGGGAAAGAACAAACCCAGGAAGAATTTTTCCATACATTTAACACATTA\n",
      "Predicted State AGTTTTTAGCCGGTAAAGAACAAACCCAGGAAGAATTCTTCCATACGTTCAACACACTT\n",
      "\n",
      "Emissions       H  E  E  S  K  Q  I  V  I  S  S  D  R  P  P  K  E  I  P  T \n",
      "Real State      CACGAAGAAAGCAAACAAATCGTCATTTCAAGTGACCGGCCGCCAAAGGAAATTCCGAC\n",
      "Predicted State CATGAAGAATCAAAACAAATCGTCATTTCAAGTGACCGGCCGCCAAAAGAAATTCCAAC\n",
      "\n",
      "Emissions        L  E  D  R  L  R  S  R  F  E  W  G  L  I  T  D  I  T  P  P\n",
      "Real State      ACTTGAAGACAGATTGCGCTCACGTTTTGAATGGGGACTTATTACAGATATCACACCGC\n",
      "Predicted State TCTTGAAGATCGTCTTCGCTCAAGGTTTGAGTGGGGACTGATTACAGATATCACGCCGC\n",
      "\n",
      "Emissions         D  L  E  T  R  I  A  I  L  R  K  K  A  K  A  E  G  L  D  \n",
      "Real State      CTGATCTAGAAACGAGAATTGCAATTTTAAGAAAAAAGGCCAAAGCAGAGGGCCTCGAT\n",
      "Predicted State CTGATCTGGAGACAAGAATTGCAATTTTAAGAAAAAAAGCAAAAGCAGAAGGACTGGAT\n",
      "\n",
      "Emissions       I  P  N  E  V  M  L  Y  I  A  N  Q  I  D  S  N  I  R  E  L \n",
      "Real State      ATTCCGAACGAGGTTATGCTTTACATCGCGAATCAAATCGACAGCAATATTCGGGAACT\n",
      "Predicted State ATTCCGAACGAAGTTATGCTTTACATTGCGAATCAAATTGACAGCAATATCAGAGAACT\n",
      "\n",
      "Emissions        E  G  A  L  I  R  V  V  A  Y  S  S  L  I  N  K  D  I  N  A\n",
      "Real State      CGAAGGAGCATTAATCAGAGTTGTCGCTTATTCATCTTTAATTAATAAAGATATTAATG\n",
      "Predicted State GGAGGGTGCTCTTATCAGAGTTGTCGCTTATTCATCTCTTATCAATAAAGACATCAATG\n",
      "\n",
      "Emissions         D  L  A  A  E  A  L  K  D  I  I  P  S  S  K  P  K  V  I  \n",
      "Real State      CTGATCTGGCCGCTGAGGCGTTGAAAGATATTATTCCTTCCTCAAAACCGAAAGTCATT\n",
      "Predicted State CAGATCTGGCTGCTGAAGCATTAAAAGACATCATTCCTTCTTCAAAACCGAAAGTTATC\n",
      "\n",
      "Emissions       T  I  K  E  I  Q  R  V  V  G  Q  Q  F  N  I  K  L  E  D  F \n",
      "Real State      ACGATAAAAGAAATTCAGAGGGTAGTAGGCCAGCAATTTAATATTAAACTCGAGGATTT\n",
      "Predicted State ACAATTAAAGAAATTCAGCGTGTTGTCGGCCAGCAGTTTAATATCAAGCTTGAAGATTT\n",
      "\n",
      "Emissions        K  A  K  K  R  T  K  S  V  A  F  P  R  Q  I  A  M  Y  L  S\n",
      "Real State      CAAAGCAAAAAAACGGACAAAGTCAGTAGCTTTTCCGCGTCAAATCGCCATGTACTTAT\n",
      "Predicted State CAAAGCAAAAAAACGCACAAAAAGTGTCGCTTTCCCGCGTCAAATTGCAATGTATTTGT\n",
      "\n",
      "Emissions         R  E  M  T  D  S  S  L  P  K  I  G  E  E  F  G  G  R  D  \n",
      "Real State      CAAGGGAAATGACTGATTCCTCTCTTCCTAAAATCGGTGAAGAGTTTGGAGGACGTGAT\n",
      "Predicted State CCAGAGAAATGACAGATTCATCTCTTCCTAAAATCGGAGAAGAATTTGGCGGACGCGAT\n",
      "\n",
      "Emissions       H  T  T  V  I  H  A  H  E  K  I  S  K  L  L  A  D  D  E  Q \n",
      "Real State      CATACGACCGTTATTCATGCGCATGAAAAAATTTCAAAACTGCTGGCAGATGATGAACA\n",
      "Predicted State CATACAACCGTTATCCATGCGCATGAAAAAATTTCAAAATTATTAGCGGATGATGAACA\n",
      "\n",
      "Emissions        L  Q  Q  H  V  K  E  I  K  E  Q  L  K  *  \n",
      "Real State      GCTTCAGCAGCATGTAAAAGAAATTAAAGAACAGCTTAAATAG\n",
      "Predicted State GCTTCAGCAGCATGTAAAAGAAATTAAAGAACAGCTTAAGTGA\n",
      "\n"
     ]
    }
   ],
   "source": [
    "from Bio.HMM.Utilities import pretty_print_prediction\n",
    "\n",
    "pretty_protein = ''.join([x + '  ' for x in protein])\n",
    "pretty_print_prediction(pretty_protein, \n",
    "                        dna, \n",
    "                        mle_dna)"
   ]
  },
  {
   "cell_type": "code",
   "execution_count": 21,
   "metadata": {},
   "outputs": [
    {
     "data": {
      "text/plain": [
       "array([0.        , 0.        , 0.        , 0.        , 0.        ,\n",
       "       0.        , 0.        , 0.        , 0.        , 0.        ,\n",
       "       0.        , 0.        , 0.        , 0.        , 0.        ,\n",
       "       0.        , 0.        , 0.        , 0.        , 0.        ,\n",
       "       0.        , 0.26710532, 0.12009873, 0.        , 0.07194147,\n",
       "       0.        , 0.        , 0.        , 0.        , 0.        ,\n",
       "       0.        , 0.        , 0.        , 0.        , 0.        ,\n",
       "       0.        , 0.        , 0.        , 0.        , 0.        ,\n",
       "       0.        , 0.        , 0.        , 0.        , 0.        ,\n",
       "       0.18877108, 0.        , 0.21970591, 0.        , 0.        ,\n",
       "       0.        , 0.        , 0.13237748, 0.        , 0.        ,\n",
       "       0.        , 0.        , 0.        , 0.        , 0.        ,\n",
       "       0.        , 0.        , 0.        , 0.        ])"
      ]
     },
     "execution_count": 21,
     "metadata": {},
     "output_type": "execute_result"
    }
   ],
   "source": [
    "state_probabilities = hmm.predict_proba(prot_e.reshape(-1, 1))\n",
    "state_probabilities[4,]"
   ]
  },
  {
   "cell_type": "code",
   "execution_count": null,
   "metadata": {},
   "outputs": [],
   "source": [
    "# Check how well the HMM reproduces the native encoding for all the proteins"
   ]
  }
 ],
 "metadata": {
  "kernelspec": {
   "display_name": "Python 3",
   "language": "python",
   "name": "python3"
  },
  "language_info": {
   "codemirror_mode": {
    "name": "ipython",
    "version": 3
   },
   "file_extension": ".py",
   "mimetype": "text/x-python",
   "name": "python",
   "nbconvert_exporter": "python",
   "pygments_lexer": "ipython3",
   "version": "3.8.6"
  }
 },
 "nbformat": 4,
 "nbformat_minor": 4
}
