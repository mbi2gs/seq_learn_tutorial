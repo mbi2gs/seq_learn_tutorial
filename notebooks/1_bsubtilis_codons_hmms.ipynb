{
 "cells": [
  {
   "cell_type": "code",
   "execution_count": 1,
   "metadata": {},
   "outputs": [],
   "source": [
    "import urllib.request\n",
    "import gzip\n",
    "import shutil\n",
    "import os\n",
    "\n",
    "import numpy as np\n",
    "import pandas as pd\n",
    "from hmmlearn.hmm import MultinomialHMM\n",
    "from Bio import SeqIO\n",
    "from Bio.Seq import Seq\n",
    "from Bio.SeqFeature import SeqFeature, FeatureLocation"
   ]
  },
  {
   "cell_type": "markdown",
   "metadata": {},
   "source": [
    "In this notebook we go through the process of building a hidden markov model (HMM) to approximate the codon use distribution of *Bacillus subtilis*.\n",
    "\n",
    "First, we download the *B. subtilis genome*. "
   ]
  },
  {
   "cell_type": "code",
   "execution_count": 2,
   "metadata": {},
   "outputs": [],
   "source": [
    "url = 'https://ftp.ncbi.nlm.nih.gov/genomes/all/GCF/000/009/045/GCF_000009045.1_ASM904v1/GCF_000009045.1_ASM904v1_genomic.gbff.gz'\n",
    "gz_fn = 'GCF_000009045.1_ASM904v1_genomic.gbff.gz'\n",
    "gbk_fn = gz_fn.replace('.gbff.gz', '.gbk')\n",
    "if not os.path.isfile(gz_fn):\n",
    "    print('Beginning file download with urllib2...')\n",
    "    urllib.request.urlretrieve(url, gz_fn)\n",
    "\n",
    "if not os.path.isfile(gbk_fn):\n",
    "    with gzip.open(gz_fn, 'rb') as f_in, open(gbk_fn, 'wb') as f_out:\n",
    "            shutil.copyfileobj(f_in, f_out)"
   ]
  },
  {
   "cell_type": "markdown",
   "metadata": {},
   "source": [
    "Some helper functions to split a nucleotide sequence into codons and check for ambiguous codons or sequences with lengths that aren't a multiple of 3.\n",
    "\n",
    "`assert` statements are little tests to make sure that things are working the way we expect. They are *very* helpful for catching silly bugs."
   ]
  },
  {
   "cell_type": "code",
   "execution_count": 3,
   "metadata": {},
   "outputs": [],
   "source": [
    "def get_list_of_codons(dna_seq):\n",
    "    codons = []\n",
    "    for i in range(0, len(dna_seq), 3):\n",
    "        codons.append(dna_seq[i:i+3])\n",
    "    return codons\n",
    "assert get_list_of_codons('ATGCCCGGGAAATTTTAG') == ['ATG', 'CCC', 'GGG', 'AAA', 'TTT', 'TAG']\n",
    "\n",
    "def check_len_and_ambiguity(seq):\n",
    "    assert isinstance(seq, str)\n",
    "    ambig_nucs = ['R', 'Y', 'S', 'W', 'K', 'M', 'B', 'D', 'H', 'V', 'N']\n",
    "    unambiguous = not any([anuc in seq for anuc in ambig_nucs])\n",
    "    multiple_3 = len(seq) % 3 == 0\n",
    "    return unambiguous and multiple_3\n",
    "assert check_len_and_ambiguity('ATGACCTAG')\n",
    "assert not check_len_and_ambiguity('ATGACCTA')\n",
    "assert not check_len_and_ambiguity('ATGACCTAY')\n",
    "assert not check_len_and_ambiguity('ATGACCAY')"
   ]
  },
  {
   "cell_type": "markdown",
   "metadata": {},
   "source": [
    "And now we read in all the protein coding sequences from the genome. During this process, we keep track of the set of unique amino acids and nucleotides, the initial states, and---of great importance---the codons that correspond to each amino acid."
   ]
  },
  {
   "cell_type": "code",
   "execution_count": 4,
   "metadata": {},
   "outputs": [],
   "source": [
    "u_aas = set()\n",
    "u_codons = set()\n",
    "all_codons = []\n",
    "initial_states = []\n",
    "emissions = {}\n",
    "for record in SeqIO.parse(gbk_fn, \"genbank\"):\n",
    "    for feature in record.features:\n",
    "        if feature.type == 'CDS' and \\\n",
    "           'translation' in feature.qualifiers and \\\n",
    "           check_len_and_ambiguity(str(record.seq)):\n",
    "            protein = feature.qualifiers['translation'][0] + '*'\n",
    "            aas = {aa for aa in protein}\n",
    "            codon = get_list_of_codons(str(feature.extract(record.seq)))\n",
    "            if len(protein) == len(codon):\n",
    "                all_codons.append(codon)\n",
    "                initial_states.append(codon[0])\n",
    "                u_aas = u_aas.union(aas)\n",
    "                u_codons = u_codons.union(set(codon))\n",
    "                for i, cdn in enumerate(codon):\n",
    "                    emissions[cdn] = protein[i]\n",
    "lu_aas = list(u_aas)\n",
    "lu_codons = list(u_codons)"
   ]
  },
  {
   "cell_type": "markdown",
   "metadata": {},
   "source": [
    "Let's look at some of the objects we created."
   ]
  },
  {
   "cell_type": "code",
   "execution_count": 5,
   "metadata": {},
   "outputs": [
    {
     "data": {
      "text/plain": [
       "['AAG', 'CAA', 'GCC']"
      ]
     },
     "execution_count": 5,
     "metadata": {},
     "output_type": "execute_result"
    }
   ],
   "source": [
    "lu_codons[:3]"
   ]
  },
  {
   "cell_type": "code",
   "execution_count": 6,
   "metadata": {},
   "outputs": [
    {
     "data": {
      "text/plain": [
       "('K', 'M')"
      ]
     },
     "execution_count": 6,
     "metadata": {},
     "output_type": "execute_result"
    }
   ],
   "source": [
    "emissions['AAA'], emissions['ATG']"
   ]
  },
  {
   "cell_type": "markdown",
   "metadata": {},
   "source": [
    "Helper functions to encode and decode sequences."
   ]
  },
  {
   "cell_type": "code",
   "execution_count": 7,
   "metadata": {},
   "outputs": [],
   "source": [
    "def encode_seq(seq_obj, seqtype='dna'):\n",
    "    encdr = lu_codons\n",
    "    symbols = get_list_of_codons(seq_obj)\n",
    "    if seqtype != 'dna':\n",
    "        encdr = lu_aas\n",
    "        symbols = [c for c in seq_obj]\n",
    "    outseq = np.array([encdr.index(s) for s in symbols])\n",
    "    return outseq\n",
    "\n",
    "test_aa = 'MENILD'\n",
    "test_nuc = 'AAAAAAATAAGATAG'\n",
    "assert encode_seq(test_aa, seqtype='prot')[0] == lu_aas.index(test_aa[0]) and \\\n",
    "       encode_seq(test_aa, seqtype='prot')[-1] == lu_aas.index(test_aa[-1])\n",
    "assert encode_seq(test_nuc, seqtype='dna')[0] == lu_codons.index(test_nuc[0:3]) and \\\n",
    "       encode_seq(test_nuc, seqtype='dna')[-1] == lu_codons.index(test_nuc[-3:])\n",
    "\n",
    "def decode_seq(num_array, seqtype='dna'):\n",
    "    encdr = lu_codons\n",
    "    if seqtype != 'dna':\n",
    "        encdr = lu_aas\n",
    "    outseq = [encdr[s] for s in num_array]\n",
    "    return ''.join(outseq)\n",
    "\n",
    "assert decode_seq(encode_seq(test_nuc)) == test_nuc\n",
    "assert decode_seq(encode_seq(test_aa, seqtype='prot'), seqtype='prot') == test_aa"
   ]
  },
  {
   "cell_type": "markdown",
   "metadata": {},
   "source": [
    "Now we construct the three matrices that together form our HMM. \n",
    "\n",
    "The `emission_prob` matrix maps the likelihood of a particular codon emitting a particular amino acid. This is pretty simple, since a given codon will map to its amino acid 100% of the time."
   ]
  },
  {
   "cell_type": "code",
   "execution_count": 8,
   "metadata": {},
   "outputs": [],
   "source": [
    "emission_prob = np.zeros((len(lu_codons), len(lu_aas)))\n",
    "for i, codon in enumerate(lu_codons):\n",
    "    aa = emissions[codon]\n",
    "    j = lu_aas.index(aa)\n",
    "    emission_prob[i, j] = 1"
   ]
  },
  {
   "cell_type": "markdown",
   "metadata": {},
   "source": [
    "The `initial_probabilities` matrix counts the number of times each codon is found at the start of a sequence, then divides those by the total so that they sum to 1. We can verify that \"ATG\" is a high fraction of the start probability."
   ]
  },
  {
   "cell_type": "code",
   "execution_count": 9,
   "metadata": {},
   "outputs": [],
   "source": [
    "initial_probabilities = {k:0 for k in lu_codons}\n",
    "for i in initial_states:\n",
    "    initial_probabilities[i] += 1\n",
    "for k in initial_probabilities.keys():\n",
    "    initial_probabilities[k] = initial_probabilities[k] / len(initial_states)\n",
    "initial_probs_np = np.array([initial_probabilities[x] for x in lu_codons])"
   ]
  },
  {
   "cell_type": "code",
   "execution_count": 10,
   "metadata": {},
   "outputs": [
    {
     "data": {
      "text/plain": [
       "0.7748406891668633"
      ]
     },
     "execution_count": 10,
     "metadata": {},
     "output_type": "execute_result"
    }
   ],
   "source": [
    "atg_idx = lu_codons.index('ATG')\n",
    "initial_probs_np[atg_idx]"
   ]
  },
  {
   "cell_type": "markdown",
   "metadata": {},
   "source": [
    "Finally, we compute the transition likelihoods. This is where the HMM differs substantially from a simpler approach of using only the most common codons. Here the HMM takes into account the codons that are expected immediately before or after."
   ]
  },
  {
   "cell_type": "code",
   "execution_count": 11,
   "metadata": {},
   "outputs": [
    {
     "data": {
      "text/html": [
       "<div>\n",
       "<style scoped>\n",
       "    .dataframe tbody tr th:only-of-type {\n",
       "        vertical-align: middle;\n",
       "    }\n",
       "\n",
       "    .dataframe tbody tr th {\n",
       "        vertical-align: top;\n",
       "    }\n",
       "\n",
       "    .dataframe thead th {\n",
       "        text-align: right;\n",
       "    }\n",
       "</style>\n",
       "<table border=\"1\" class=\"dataframe\">\n",
       "  <thead>\n",
       "    <tr style=\"text-align: right;\">\n",
       "      <th></th>\n",
       "      <th>AAG</th>\n",
       "      <th>CAA</th>\n",
       "      <th>GCC</th>\n",
       "      <th>GTC</th>\n",
       "      <th>TGG</th>\n",
       "      <th>CCG</th>\n",
       "      <th>GAC</th>\n",
       "      <th>TAC</th>\n",
       "      <th>TGC</th>\n",
       "      <th>TAG</th>\n",
       "      <th>...</th>\n",
       "      <th>ATA</th>\n",
       "      <th>TCA</th>\n",
       "      <th>CCA</th>\n",
       "      <th>CTT</th>\n",
       "      <th>TTC</th>\n",
       "      <th>CAG</th>\n",
       "      <th>ATC</th>\n",
       "      <th>AGA</th>\n",
       "      <th>CGC</th>\n",
       "      <th>TCG</th>\n",
       "    </tr>\n",
       "  </thead>\n",
       "  <tbody>\n",
       "    <tr>\n",
       "      <th>AAG</th>\n",
       "      <td>0.022648</td>\n",
       "      <td>0.028877</td>\n",
       "      <td>0.007998</td>\n",
       "      <td>0.013496</td>\n",
       "      <td>0.011535</td>\n",
       "      <td>0.025647</td>\n",
       "      <td>0.021379</td>\n",
       "      <td>0.008305</td>\n",
       "      <td>0.001961</td>\n",
       "      <td>0.001154</td>\n",
       "      <td>...</td>\n",
       "      <td>0.007575</td>\n",
       "      <td>0.008305</td>\n",
       "      <td>0.008575</td>\n",
       "      <td>0.049333</td>\n",
       "      <td>0.007460</td>\n",
       "      <td>0.034222</td>\n",
       "      <td>0.014035</td>\n",
       "      <td>0.007229</td>\n",
       "      <td>0.009767</td>\n",
       "      <td>0.004230</td>\n",
       "    </tr>\n",
       "    <tr>\n",
       "      <th>CAA</th>\n",
       "      <td>0.038904</td>\n",
       "      <td>0.009149</td>\n",
       "      <td>0.016361</td>\n",
       "      <td>0.015908</td>\n",
       "      <td>0.012446</td>\n",
       "      <td>0.002061</td>\n",
       "      <td>0.016237</td>\n",
       "      <td>0.017020</td>\n",
       "      <td>0.004739</td>\n",
       "      <td>0.000989</td>\n",
       "      <td>...</td>\n",
       "      <td>0.010880</td>\n",
       "      <td>0.017433</td>\n",
       "      <td>0.002267</td>\n",
       "      <td>0.003709</td>\n",
       "      <td>0.014795</td>\n",
       "      <td>0.007130</td>\n",
       "      <td>0.036555</td>\n",
       "      <td>0.012034</td>\n",
       "      <td>0.002143</td>\n",
       "      <td>0.009808</td>\n",
       "    </tr>\n",
       "    <tr>\n",
       "      <th>GCC</th>\n",
       "      <td>0.018569</td>\n",
       "      <td>0.015059</td>\n",
       "      <td>0.017908</td>\n",
       "      <td>0.020147</td>\n",
       "      <td>0.007123</td>\n",
       "      <td>0.006003</td>\n",
       "      <td>0.012617</td>\n",
       "      <td>0.010887</td>\n",
       "      <td>0.008496</td>\n",
       "      <td>0.000254</td>\n",
       "      <td>...</td>\n",
       "      <td>0.010124</td>\n",
       "      <td>0.009514</td>\n",
       "      <td>0.003154</td>\n",
       "      <td>0.018061</td>\n",
       "      <td>0.011345</td>\n",
       "      <td>0.012108</td>\n",
       "      <td>0.033476</td>\n",
       "      <td>0.017501</td>\n",
       "      <td>0.013635</td>\n",
       "      <td>0.004019</td>\n",
       "    </tr>\n",
       "    <tr>\n",
       "      <th>GTC</th>\n",
       "      <td>0.012305</td>\n",
       "      <td>0.010488</td>\n",
       "      <td>0.012445</td>\n",
       "      <td>0.019297</td>\n",
       "      <td>0.007178</td>\n",
       "      <td>0.009089</td>\n",
       "      <td>0.008903</td>\n",
       "      <td>0.006432</td>\n",
       "      <td>0.005593</td>\n",
       "      <td>0.000233</td>\n",
       "      <td>...</td>\n",
       "      <td>0.012259</td>\n",
       "      <td>0.010301</td>\n",
       "      <td>0.003449</td>\n",
       "      <td>0.012678</td>\n",
       "      <td>0.010488</td>\n",
       "      <td>0.008110</td>\n",
       "      <td>0.050480</td>\n",
       "      <td>0.022373</td>\n",
       "      <td>0.011886</td>\n",
       "      <td>0.004148</td>\n",
       "    </tr>\n",
       "    <tr>\n",
       "      <th>TGG</th>\n",
       "      <td>0.029720</td>\n",
       "      <td>0.010715</td>\n",
       "      <td>0.009542</td>\n",
       "      <td>0.011028</td>\n",
       "      <td>0.012670</td>\n",
       "      <td>0.016346</td>\n",
       "      <td>0.015251</td>\n",
       "      <td>0.012592</td>\n",
       "      <td>0.004223</td>\n",
       "      <td>0.000704</td>\n",
       "      <td>...</td>\n",
       "      <td>0.012592</td>\n",
       "      <td>0.012670</td>\n",
       "      <td>0.003128</td>\n",
       "      <td>0.032457</td>\n",
       "      <td>0.015799</td>\n",
       "      <td>0.023385</td>\n",
       "      <td>0.027061</td>\n",
       "      <td>0.014860</td>\n",
       "      <td>0.008056</td>\n",
       "      <td>0.006570</td>\n",
       "    </tr>\n",
       "  </tbody>\n",
       "</table>\n",
       "<p>5 rows × 64 columns</p>\n",
       "</div>"
      ],
      "text/plain": [
       "          AAG       CAA       GCC       GTC       TGG       CCG       GAC  \\\n",
       "AAG  0.022648  0.028877  0.007998  0.013496  0.011535  0.025647  0.021379   \n",
       "CAA  0.038904  0.009149  0.016361  0.015908  0.012446  0.002061  0.016237   \n",
       "GCC  0.018569  0.015059  0.017908  0.020147  0.007123  0.006003  0.012617   \n",
       "GTC  0.012305  0.010488  0.012445  0.019297  0.007178  0.009089  0.008903   \n",
       "TGG  0.029720  0.010715  0.009542  0.011028  0.012670  0.016346  0.015251   \n",
       "\n",
       "          TAC       TGC       TAG  ...       ATA       TCA       CCA  \\\n",
       "AAG  0.008305  0.001961  0.001154  ...  0.007575  0.008305  0.008575   \n",
       "CAA  0.017020  0.004739  0.000989  ...  0.010880  0.017433  0.002267   \n",
       "GCC  0.010887  0.008496  0.000254  ...  0.010124  0.009514  0.003154   \n",
       "GTC  0.006432  0.005593  0.000233  ...  0.012259  0.010301  0.003449   \n",
       "TGG  0.012592  0.004223  0.000704  ...  0.012592  0.012670  0.003128   \n",
       "\n",
       "          CTT       TTC       CAG       ATC       AGA       CGC       TCG  \n",
       "AAG  0.049333  0.007460  0.034222  0.014035  0.007229  0.009767  0.004230  \n",
       "CAA  0.003709  0.014795  0.007130  0.036555  0.012034  0.002143  0.009808  \n",
       "GCC  0.018061  0.011345  0.012108  0.033476  0.017501  0.013635  0.004019  \n",
       "GTC  0.012678  0.010488  0.008110  0.050480  0.022373  0.011886  0.004148  \n",
       "TGG  0.032457  0.015799  0.023385  0.027061  0.014860  0.008056  0.006570  \n",
       "\n",
       "[5 rows x 64 columns]"
      ]
     },
     "execution_count": 11,
     "metadata": {},
     "output_type": "execute_result"
    }
   ],
   "source": [
    "transition_counts = np.ones((len(lu_codons), len(lu_codons)))\n",
    "for gene in all_codons:\n",
    "    for i in range(0, len(gene)-1):\n",
    "        codon0 = lu_codons.index(gene[i])\n",
    "        codon1 = lu_codons.index(gene[i+1])\n",
    "        transition_counts[codon0, codon1] += 1\n",
    "transition_totals = transition_counts.sum(axis=1)\n",
    "transition_probs = np.dot(np.diag(1/transition_totals), transition_counts)\n",
    "transition_probs_df = pd.DataFrame(transition_probs, index=lu_codons, columns=lu_codons)\n",
    "transition_probs_df.head()"
   ]
  },
  {
   "cell_type": "markdown",
   "metadata": {},
   "source": [
    "#### Build the HMM\n",
    "\n",
    "In this case, rather than train the HMM (which is [also an option using the `model.fit()` function](https://hmmlearn.readthedocs.io/en/latest/tutorial.html#training-hmm-parameters-and-inferring-the-hidden-states)), we plug in our own calculated matrices to create the model object."
   ]
  },
  {
   "cell_type": "code",
   "execution_count": 12,
   "metadata": {},
   "outputs": [],
   "source": [
    "hmm = MultinomialHMM(n_components=len(lu_codons), \n",
    "                     startprob_prior=initial_probs_np, \n",
    "                     transmat_prior=transition_probs, \n",
    "                     verbose=False,  \n",
    "                     init_params='')\n",
    "hmm.transmat_ = transition_probs\n",
    "hmm.emissionprob_ = emission_prob\n",
    "hmm.startprob_ = initial_probs_np\n",
    "hmm.n_features = len(lu_aas)"
   ]
  },
  {
   "cell_type": "markdown",
   "metadata": {},
   "source": [
    "Having built the model, we can sample a randomly-generated sequence and check that everything makes sense."
   ]
  },
  {
   "cell_type": "code",
   "execution_count": 13,
   "metadata": {},
   "outputs": [],
   "source": [
    "sample_aa, sample_nuc = hmm.sample(n_samples=10, random_state=21)"
   ]
  },
  {
   "cell_type": "code",
   "execution_count": 14,
   "metadata": {},
   "outputs": [
    {
     "data": {
      "text/plain": [
       "('LIENSWEYII', 'TTGATTGAAAATTCCTGGGAATATATTATT')"
      ]
     },
     "execution_count": 14,
     "metadata": {},
     "output_type": "execute_result"
    }
   ],
   "source": [
    "assert emission_prob[sample_nuc[0], sample_aa[0]] == 1\n",
    "decode_seq(sample_aa.reshape(-1), seqtype='prot'), decode_seq(sample_nuc.reshape(-1), seqtype='dna')"
   ]
  },
  {
   "cell_type": "markdown",
   "metadata": {},
   "source": [
    "#### HMM performance\n",
    "\n",
    "Here we extract a single protein, predict the codon usage, and see how well it compares to the native DNA sequence."
   ]
  },
  {
   "cell_type": "code",
   "execution_count": 15,
   "metadata": {},
   "outputs": [],
   "source": [
    "protein = ''\n",
    "dna = ''\n",
    "for record in SeqIO.parse(gbk_fn, \"genbank\"):\n",
    "    for feature in record.features:\n",
    "        if feature.type == 'CDS' and 'translation' in feature.qualifiers:\n",
    "            protein = Seq(feature.qualifiers['translation'][0] + '*')\n",
    "            dna = feature.extract(record.seq)\n",
    "            break"
   ]
  },
  {
   "cell_type": "code",
   "execution_count": 16,
   "metadata": {},
   "outputs": [
    {
     "data": {
      "text/plain": [
       "Seq('MENILDLWNQALAQIEKKLSKPSFETWMKSTKAHSLQGDTLTITAPNEFARDWL...LK*')"
      ]
     },
     "execution_count": 16,
     "metadata": {},
     "output_type": "execute_result"
    }
   ],
   "source": [
    "protein"
   ]
  },
  {
   "cell_type": "code",
   "execution_count": 17,
   "metadata": {},
   "outputs": [
    {
     "data": {
      "text/plain": [
       "Seq('MENILDLWNQALAQIEKKLSKPSFETWMKSTKAHSLQGDTLTITAPNEFARDWL...LK*')"
      ]
     },
     "execution_count": 17,
     "metadata": {},
     "output_type": "execute_result"
    }
   ],
   "source": [
    "prot_e = encode_seq(protein, seqtype='prot')\n",
    "mle_dna_indices = hmm.predict(prot_e.reshape(-1, 1))\n",
    "mle_dna = decode_seq(mle_dna_indices)\n",
    "\n",
    "Seq(mle_dna).translate()"
   ]
  },
  {
   "cell_type": "code",
   "execution_count": 18,
   "metadata": {},
   "outputs": [
    {
     "name": "stdout",
     "output_type": "stream",
     "text": [
      "Seq1 ATGGAAAATATATTAGACCTGTGGAACCAAGCCCTTGCTCAAATCGAAAAAAAGTTGAGC\n",
      "                ** *  ** *     *     *           *         *  ***\n",
      "Seq2 ATGGAAAATATTCTTGATTTATGGAATCAAGCGCTTGCTCAAATTGAAAAAAAGCTGTCA\n",
      "\n",
      "Seq1 AAACCGAGTTTTGAGACTTGGATGAAGTCAACCAAAGCCCACTCACTGCAAGGCGATACA\n",
      "          *  *     *  *        ****  *     *  *  *  *     *     *\n",
      "Seq2 AAACCAAGCTTTGAAACATGGATGAAAAGCACAAAAGCGCATTCTCTTCAAGGAGATACG\n",
      "\n",
      "Seq1 TTAACAATCACGGCTCCCAATGAATTTGCCAGAGACTGGCTGGAGTCCAGATACTTGCAT\n",
      "     * *  *  *  *  *  *                       *  *** * *  *  *   \n",
      "Seq2 CTGACGATTACAGCGCCGAATGAATTTGCCAGAGACTGGCTTGAAAGCCGCTATTTACAT\n",
      "\n",
      "Seq1 CTGATTGCAGATACTATATATGAATTAACCGGGGAAGAATTGAGCATTAAGTTTGTCATT\n",
      "     *       *     *  *     ** *  *  *     ** ****     *         \n",
      "Seq2 TTGATTGCTGATACGATTTATGAGCTGACAGGAGAAGAGCTTTCTATTAAATTTGTCATT\n",
      "\n",
      "Seq1 CCTCAAAATCAAGATGTTGAGGACTTTATGCCGAAACCGCAAGTCAAAAAAGCGGTCAAA\n",
      "       *        *        *  *                    *           *   \n",
      "Seq2 CCGCAAAATCAGGATGTTGAAGATTTTATGCCGAAACCGCAAGTGAAAAAAGCGGTGAAA\n",
      "\n",
      "Seq1 GAAGATACATCTGATTTTCCTCAAAATATGCTCAATCCAAAATATACTTTTGATACTTTT\n",
      "                         *           *     *        *        *   \n",
      "Seq2 GAAGATACATCTGATTTTCCGCAAAATATGCTGAATCCGAAATATACATTTGATACATTT\n",
      "\n",
      "Seq1 GTCATCGGATCTGGAAACCGATTTGCACATGCTGCTTCCCTCGCAGTAGCGGAAGCGCCC\n",
      "             ****        *     *     *     *  *  *  *  *        *\n",
      "Seq2 GTCATCGGCAGCGGAAACCGTTTTGCCCATGCGGCTTCTCTTGCTGTTGCTGAAGCGCCG\n",
      "\n",
      "Seq1 GCGAAAGCTTACAACCCTTTATTTATCTATGGGGGCGTCGGCTTAGGGAAAACACACTTA\n",
      "       *     *     *  ** *     *  *  *  *      * *  *        *   \n",
      "Seq2 GCAAAAGCATACAATCCGCTGTTTATTTACGGCGGTGTCGGCCTTGGAAAAACACATTTA\n",
      "\n",
      "Seq1 ATGCATGCGATCGGCCATTATGTAATAGATCATAATCCTTCTGCCAAAGTGGTTTATCTG\n",
      "                            *  *           *     *     *      * *\n",
      "Seq2 ATGCATGCGATCGGCCATTATGTCATTGATCATAATCCGTCTGCAAAAGTCGTTTATTTA\n",
      "\n",
      "Seq1 TCTTCTGAGAAATTTACAAACGAATTCATCAACTCTATCCGAGATAATAAAGCCGTCGAC\n",
      "             *           *     *      ***   *    *        *  *  *\n",
      "Seq2 TCTTCTGAAAAATTTACAAATGAATTTATCAACAGCATCAGAGACAATAAAGCGGTTGAT\n",
      "\n",
      "Seq1 TTCCGCAATCGCTATCGAAATGTTGATGTGCTTTTGATAGATGATATTCAATTTTTAGCG\n",
      "        * *  *     **                **    *                    *\n",
      "Seq2 TTCAGAAACCGCTACAGAAATGTTGATGTGCTGCTGATTGATGATATTCAATTTTTAGCC\n",
      "\n",
      "Seq1 GGGAAAGAACAAACCCAGGAAGAATTTTTCCATACATTTAACACATTACACGAAGAAAGC\n",
      "       *           *              *           *  ** *  *         \n",
      "Seq2 GGAAAAGAACAAACACAGGAAGAATTTTTTCATACATTTAATACGCTTCATGAAGAAAGC\n",
      "\n",
      "Seq1 AAACAAATCGTCATTTCAAGTGACCGGCCGCCAAAGGAAATTCCGACACTTGAAGACAGA\n",
      "             *        ***      *     *  *           *         * *\n",
      "Seq2 AAACAAATTGTCATTTCTTCTGACCGTCCGCCGAAAGAAATTCCGACGCTTGAAGACCGT\n",
      "\n",
      "Seq1 TTGCGCTCACGTTTTGAATGGGGACTTATTACAGATATCACACCGCCTGATCTAGAAACG\n",
      "       ** ****              *  *           *              *     *\n",
      "Seq2 TTAAGAAGCCGTTTTGAATGGGGGCTGATTACAGATATTACACCGCCTGATCTTGAAACA\n",
      "\n",
      "Seq1 AGAATTGCAATTTTAAGAAAAAAGGCCAAAGCAGAGGGCCTCGATATTCCGAACGAGGTT\n",
      "             *              *  *        *  *  *           *  *  *\n",
      "Seq2 AGAATTGCCATTTTAAGAAAAAAAGCAAAAGCAGAAGGGCTTGATATTCCGAATGAAGTG\n",
      "\n",
      "Seq1 ATGCTTTACATCGCGAATCAAATCGACAGCAATATTCGGGAACTCGAAGGAGCATTAATC\n",
      "          *  *  *  *        *           ** *  *  *        ** *   \n",
      "Seq2 ATGCTGTATATTGCCAATCAAATTGACAGCAATATCAGAGAGCTTGAAGGAGCGCTGATC\n",
      "\n",
      "Seq1 AGAGTTGTCGCTTATTCATCTTTAATTAATAAAGATATTAATGCTGATCTGGCCGCTGAG\n",
      "     * *     *     ******** *  *           *           *  *     *\n",
      "Seq2 CGTGTTGTTGCTTACAGCAGCCTGATCAATAAAGATATCAATGCTGATCTTGCTGCTGAA\n",
      "\n",
      "Seq1 GCGTTGAAAGATATTATTCCTTCCTCAAAACCGAAAGTCATTACGATAAAAGAAATTCAG\n",
      "        *          *        *              *        *            \n",
      "Seq2 GCGCTGAAAGATATCATTCCTTCTTCAAAACCGAAAGTGATTACGATTAAAGAAATTCAG\n",
      "\n",
      "Seq1 AGGGTAGTAGGCCAGCAATTTAATATTAAACTCGAGGATTTCAAAGCAAAAAAACGGACA\n",
      "     * *  *  *                 *  *  *  *     *            * *   \n",
      "Seq2 CGTGTTGTCGGCCAGCAATTTAATATCAAGCTTGAAGATTTTAAAGCAAAAAAAAGAACA\n",
      "\n",
      "Seq1 AAGTCAGTAGCTTTTCCGCGTCAAATCGCCATGTACTTATCAAGGGAAATGACTGATTCC\n",
      "       *     *           *     *  *     *        *        *  *** \n",
      "Seq2 AAATCAGTTGCTTTTCCGCGCCAAATTGCGATGTATTTATCAAGAGAAATGACAGACAGC\n",
      "\n",
      "Seq1 TCTCTTCCTAAAATCGGTGAAGAGTTTGGAGGACGTGATCATACGACCGTTATTCATGCG\n",
      "     ***  *  *              *  *  *  *           *  *  *        *\n",
      "Seq2 AGCCTGCCGAAAATCGGTGAAGAATTCGGCGGCCGTGATCATACAACAGTCATTCATGCC\n",
      "\n",
      "Seq1 CATGAAAAAATTTCAAAACTGCTGGCAGATGATGAACAGCTTCAGCAGCATGTAAAAGAA\n",
      "                ****  *     *  *                          *      \n",
      "Seq2 CATGAAAAAATCAGCAAGCTGCTTGCTGATGATGAACAGCTTCAGCAGCATGTGAAAGAA\n",
      "\n",
      "Seq1 ATTAAAGAACAGCTTAAATAG\n",
      "       *           *     *\n",
      "Seq2 ATCAAAGAACAGCTGAAATAA\n",
      "\n"
     ]
    }
   ],
   "source": [
    "def align(seq1, seq2, WIDTH=60):\n",
    "    '''Align two input sequences of equal length,\n",
    "    with *  between indicating mismatches.'''\n",
    "    lines = int(np.ceil(len(seq1) / WIDTH))\n",
    "    match = ''\n",
    "    for i, c1 in enumerate(seq1):\n",
    "        indicator = ' '\n",
    "        if c1 != seq2[i]:\n",
    "            indicator = '*'\n",
    "        match += indicator\n",
    "    \n",
    "    for i in range(lines):\n",
    "        print('Seq1', seq1[i*WIDTH:i*WIDTH+WIDTH])\n",
    "        print('    ', match[i*WIDTH:i*WIDTH+WIDTH])\n",
    "        print('Seq2', seq2[i*WIDTH:i*WIDTH+WIDTH])\n",
    "        print()\n",
    "\n",
    "align(dna, mle_dna)"
   ]
  },
  {
   "cell_type": "code",
   "execution_count": 19,
   "metadata": {},
   "outputs": [
    {
     "data": {
      "text/plain": [
       "array([0.        , 0.        , 0.        , 0.        , 0.        ,\n",
       "       0.        , 0.        , 0.        , 0.        , 0.        ,\n",
       "       0.        , 0.1750465 , 0.11127687, 0.        , 0.        ,\n",
       "       0.        , 0.        , 0.        , 0.        , 0.        ,\n",
       "       0.        , 0.        , 0.        , 0.        , 0.        ,\n",
       "       0.        , 0.        , 0.04395898, 0.26055578, 0.        ,\n",
       "       0.        , 0.        , 0.        , 0.        , 0.        ,\n",
       "       0.        , 0.        , 0.        , 0.        , 0.        ,\n",
       "       0.        , 0.        , 0.        , 0.        , 0.        ,\n",
       "       0.        , 0.        , 0.        , 0.        , 0.        ,\n",
       "       0.        , 0.10726251, 0.        , 0.        , 0.        ,\n",
       "       0.        , 0.        , 0.30189935, 0.        , 0.        ,\n",
       "       0.        , 0.        , 0.        , 0.        ])"
      ]
     },
     "execution_count": 19,
     "metadata": {},
     "output_type": "execute_result"
    }
   ],
   "source": [
    "state_probabilities = hmm.predict_proba(prot_e.reshape(-1, 1))\n",
    "state_probabilities[4,]"
   ]
  },
  {
   "cell_type": "code",
   "execution_count": null,
   "metadata": {},
   "outputs": [],
   "source": []
  }
 ],
 "metadata": {
  "kernelspec": {
   "display_name": "Python 3",
   "language": "python",
   "name": "python3"
  },
  "language_info": {
   "codemirror_mode": {
    "name": "ipython",
    "version": 3
   },
   "file_extension": ".py",
   "mimetype": "text/x-python",
   "name": "python",
   "nbconvert_exporter": "python",
   "pygments_lexer": "ipython3",
   "version": "3.8.6"
  }
 },
 "nbformat": 4,
 "nbformat_minor": 4
}
